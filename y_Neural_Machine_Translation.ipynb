{
  "cells": [
    {
      "cell_type": "markdown",
      "metadata": {
        "id": "view-in-github",
        "colab_type": "text"
      },
      "source": [
        "<a href=\"https://colab.research.google.com/github/yaranasserr/Neural-Machine-Translation/blob/main/y_Neural_Machine_Translation.ipynb\" target=\"_parent\"><img src=\"https://colab.research.google.com/assets/colab-badge.svg\" alt=\"Open In Colab\"/></a>"
      ]
    },
    {
      "cell_type": "markdown",
      "metadata": {
        "id": "A6czvz5VKO5M"
      },
      "source": []
    },
    {
      "cell_type": "markdown",
      "metadata": {
        "id": "5o8HI5JqTvU5"
      },
      "source": [
        " using [PyTorch](https://pytorch.org/) to implement a sequence-to-sequence (seq2seq) transformer model to build a nerual machine translation (NMT) system, which translates from French to English."
      ]
    },
    {
      "cell_type": "markdown",
      "metadata": {
        "id": "ObrHyvWvTyGZ"
      },
      "source": []
    },
    {
      "cell_type": "code",
      "execution_count": 2,
      "metadata": {
        "id": "-dRVuiP_JVdT",
        "colab": {
          "base_uri": "https://localhost:8080/"
        },
        "outputId": "a502bf0b-a93c-4484-97b3-9ea857bcce2f"
      },
      "outputs": [
        {
          "output_type": "stream",
          "name": "stdout",
          "text": [
            "Collecting transformers==4.27.0\n",
            "  Downloading transformers-4.27.0-py3-none-any.whl.metadata (106 kB)\n",
            "\u001b[?25l     \u001b[90m━━━━━━━━━━━━━━━━━━━━━━━━━━━━━━━━━━━━━━━━\u001b[0m \u001b[32m0.0/106.7 kB\u001b[0m \u001b[31m?\u001b[0m eta \u001b[36m-:--:--\u001b[0m\r\u001b[2K     \u001b[90m━━━━━━━━━━━━━━━━━━━━━━━━━━━━━━━━━━━━━━━━\u001b[0m \u001b[32m106.7/106.7 kB\u001b[0m \u001b[31m3.0 MB/s\u001b[0m eta \u001b[36m0:00:00\u001b[0m\n",
            "\u001b[?25hRequirement already satisfied: filelock in /usr/local/lib/python3.10/dist-packages (from transformers==4.27.0) (3.16.1)\n",
            "Requirement already satisfied: huggingface-hub<1.0,>=0.11.0 in /usr/local/lib/python3.10/dist-packages (from transformers==4.27.0) (0.26.2)\n",
            "Requirement already satisfied: numpy>=1.17 in /usr/local/lib/python3.10/dist-packages (from transformers==4.27.0) (1.26.4)\n",
            "Requirement already satisfied: packaging>=20.0 in /usr/local/lib/python3.10/dist-packages (from transformers==4.27.0) (24.2)\n",
            "Requirement already satisfied: pyyaml>=5.1 in /usr/local/lib/python3.10/dist-packages (from transformers==4.27.0) (6.0.2)\n",
            "Requirement already satisfied: regex!=2019.12.17 in /usr/local/lib/python3.10/dist-packages (from transformers==4.27.0) (2024.9.11)\n",
            "Requirement already satisfied: requests in /usr/local/lib/python3.10/dist-packages (from transformers==4.27.0) (2.32.3)\n",
            "Collecting tokenizers!=0.11.3,<0.14,>=0.11.1 (from transformers==4.27.0)\n",
            "  Downloading tokenizers-0.13.3-cp310-cp310-manylinux_2_17_x86_64.manylinux2014_x86_64.whl.metadata (6.7 kB)\n",
            "Requirement already satisfied: tqdm>=4.27 in /usr/local/lib/python3.10/dist-packages (from transformers==4.27.0) (4.66.6)\n",
            "Requirement already satisfied: fsspec>=2023.5.0 in /usr/local/lib/python3.10/dist-packages (from huggingface-hub<1.0,>=0.11.0->transformers==4.27.0) (2024.10.0)\n",
            "Requirement already satisfied: typing-extensions>=3.7.4.3 in /usr/local/lib/python3.10/dist-packages (from huggingface-hub<1.0,>=0.11.0->transformers==4.27.0) (4.12.2)\n",
            "Requirement already satisfied: charset-normalizer<4,>=2 in /usr/local/lib/python3.10/dist-packages (from requests->transformers==4.27.0) (3.4.0)\n",
            "Requirement already satisfied: idna<4,>=2.5 in /usr/local/lib/python3.10/dist-packages (from requests->transformers==4.27.0) (3.10)\n",
            "Requirement already satisfied: urllib3<3,>=1.21.1 in /usr/local/lib/python3.10/dist-packages (from requests->transformers==4.27.0) (2.2.3)\n",
            "Requirement already satisfied: certifi>=2017.4.17 in /usr/local/lib/python3.10/dist-packages (from requests->transformers==4.27.0) (2024.8.30)\n",
            "Downloading transformers-4.27.0-py3-none-any.whl (6.8 MB)\n",
            "\u001b[2K   \u001b[90m━━━━━━━━━━━━━━━━━━━━━━━━━━━━━━━━━━━━━━━━\u001b[0m \u001b[32m6.8/6.8 MB\u001b[0m \u001b[31m26.1 MB/s\u001b[0m eta \u001b[36m0:00:00\u001b[0m\n",
            "\u001b[?25hDownloading tokenizers-0.13.3-cp310-cp310-manylinux_2_17_x86_64.manylinux2014_x86_64.whl (7.8 MB)\n",
            "\u001b[2K   \u001b[90m━━━━━━━━━━━━━━━━━━━━━━━━━━━━━━━━━━━━━━━━\u001b[0m \u001b[32m7.8/7.8 MB\u001b[0m \u001b[31m30.0 MB/s\u001b[0m eta \u001b[36m0:00:00\u001b[0m\n",
            "\u001b[?25hInstalling collected packages: tokenizers, transformers\n",
            "  Attempting uninstall: tokenizers\n",
            "    Found existing installation: tokenizers 0.20.3\n",
            "    Uninstalling tokenizers-0.20.3:\n",
            "      Successfully uninstalled tokenizers-0.20.3\n",
            "  Attempting uninstall: transformers\n",
            "    Found existing installation: transformers 4.46.2\n",
            "    Uninstalling transformers-4.46.2:\n",
            "      Successfully uninstalled transformers-4.46.2\n",
            "\u001b[31mERROR: pip's dependency resolver does not currently take into account all the packages that are installed. This behaviour is the source of the following dependency conflicts.\n",
            "sentence-transformers 3.2.1 requires transformers<5.0.0,>=4.41.0, but you have transformers 4.27.0 which is incompatible.\u001b[0m\u001b[31m\n",
            "\u001b[0mSuccessfully installed tokenizers-0.13.3 transformers-4.27.0\n",
            "Collecting datasets==2.10.0\n",
            "  Downloading datasets-2.10.0-py3-none-any.whl.metadata (20 kB)\n",
            "Requirement already satisfied: numpy>=1.17 in /usr/local/lib/python3.10/dist-packages (from datasets==2.10.0) (1.26.4)\n",
            "Requirement already satisfied: pyarrow>=6.0.0 in /usr/local/lib/python3.10/dist-packages (from datasets==2.10.0) (17.0.0)\n",
            "Collecting dill<0.3.7,>=0.3.0 (from datasets==2.10.0)\n",
            "  Downloading dill-0.3.6-py3-none-any.whl.metadata (9.8 kB)\n",
            "Requirement already satisfied: pandas in /usr/local/lib/python3.10/dist-packages (from datasets==2.10.0) (2.2.2)\n",
            "Requirement already satisfied: requests>=2.19.0 in /usr/local/lib/python3.10/dist-packages (from datasets==2.10.0) (2.32.3)\n",
            "Requirement already satisfied: tqdm>=4.62.1 in /usr/local/lib/python3.10/dist-packages (from datasets==2.10.0) (4.66.6)\n",
            "Collecting xxhash (from datasets==2.10.0)\n",
            "  Downloading xxhash-3.5.0-cp310-cp310-manylinux_2_17_x86_64.manylinux2014_x86_64.whl.metadata (12 kB)\n",
            "Collecting multiprocess (from datasets==2.10.0)\n",
            "  Downloading multiprocess-0.70.17-py310-none-any.whl.metadata (7.2 kB)\n",
            "Requirement already satisfied: fsspec>=2021.11.1 in /usr/local/lib/python3.10/dist-packages (from fsspec[http]>=2021.11.1->datasets==2.10.0) (2024.10.0)\n",
            "Requirement already satisfied: aiohttp in /usr/local/lib/python3.10/dist-packages (from datasets==2.10.0) (3.11.2)\n",
            "Requirement already satisfied: huggingface-hub<1.0.0,>=0.2.0 in /usr/local/lib/python3.10/dist-packages (from datasets==2.10.0) (0.26.2)\n",
            "Requirement already satisfied: packaging in /usr/local/lib/python3.10/dist-packages (from datasets==2.10.0) (24.2)\n",
            "Collecting responses<0.19 (from datasets==2.10.0)\n",
            "  Downloading responses-0.18.0-py3-none-any.whl.metadata (29 kB)\n",
            "Requirement already satisfied: pyyaml>=5.1 in /usr/local/lib/python3.10/dist-packages (from datasets==2.10.0) (6.0.2)\n",
            "Requirement already satisfied: aiohappyeyeballs>=2.3.0 in /usr/local/lib/python3.10/dist-packages (from aiohttp->datasets==2.10.0) (2.4.3)\n",
            "Requirement already satisfied: aiosignal>=1.1.2 in /usr/local/lib/python3.10/dist-packages (from aiohttp->datasets==2.10.0) (1.3.1)\n",
            "Requirement already satisfied: attrs>=17.3.0 in /usr/local/lib/python3.10/dist-packages (from aiohttp->datasets==2.10.0) (24.2.0)\n",
            "Requirement already satisfied: frozenlist>=1.1.1 in /usr/local/lib/python3.10/dist-packages (from aiohttp->datasets==2.10.0) (1.5.0)\n",
            "Requirement already satisfied: multidict<7.0,>=4.5 in /usr/local/lib/python3.10/dist-packages (from aiohttp->datasets==2.10.0) (6.1.0)\n",
            "Requirement already satisfied: propcache>=0.2.0 in /usr/local/lib/python3.10/dist-packages (from aiohttp->datasets==2.10.0) (0.2.0)\n",
            "Requirement already satisfied: yarl<2.0,>=1.17.0 in /usr/local/lib/python3.10/dist-packages (from aiohttp->datasets==2.10.0) (1.17.2)\n",
            "Requirement already satisfied: async-timeout<6.0,>=4.0 in /usr/local/lib/python3.10/dist-packages (from aiohttp->datasets==2.10.0) (4.0.3)\n",
            "Requirement already satisfied: filelock in /usr/local/lib/python3.10/dist-packages (from huggingface-hub<1.0.0,>=0.2.0->datasets==2.10.0) (3.16.1)\n",
            "Requirement already satisfied: typing-extensions>=3.7.4.3 in /usr/local/lib/python3.10/dist-packages (from huggingface-hub<1.0.0,>=0.2.0->datasets==2.10.0) (4.12.2)\n",
            "Requirement already satisfied: charset-normalizer<4,>=2 in /usr/local/lib/python3.10/dist-packages (from requests>=2.19.0->datasets==2.10.0) (3.4.0)\n",
            "Requirement already satisfied: idna<4,>=2.5 in /usr/local/lib/python3.10/dist-packages (from requests>=2.19.0->datasets==2.10.0) (3.10)\n",
            "Requirement already satisfied: urllib3<3,>=1.21.1 in /usr/local/lib/python3.10/dist-packages (from requests>=2.19.0->datasets==2.10.0) (2.2.3)\n",
            "Requirement already satisfied: certifi>=2017.4.17 in /usr/local/lib/python3.10/dist-packages (from requests>=2.19.0->datasets==2.10.0) (2024.8.30)\n",
            "INFO: pip is looking at multiple versions of multiprocess to determine which version is compatible with other requirements. This could take a while.\n",
            "Collecting multiprocess (from datasets==2.10.0)\n",
            "  Downloading multiprocess-0.70.16-py310-none-any.whl.metadata (7.2 kB)\n",
            "  Downloading multiprocess-0.70.15-py310-none-any.whl.metadata (7.2 kB)\n",
            "  Downloading multiprocess-0.70.14-py310-none-any.whl.metadata (6.6 kB)\n",
            "Requirement already satisfied: python-dateutil>=2.8.2 in /usr/local/lib/python3.10/dist-packages (from pandas->datasets==2.10.0) (2.8.2)\n",
            "Requirement already satisfied: pytz>=2020.1 in /usr/local/lib/python3.10/dist-packages (from pandas->datasets==2.10.0) (2024.2)\n",
            "Requirement already satisfied: tzdata>=2022.7 in /usr/local/lib/python3.10/dist-packages (from pandas->datasets==2.10.0) (2024.2)\n",
            "Requirement already satisfied: six>=1.5 in /usr/local/lib/python3.10/dist-packages (from python-dateutil>=2.8.2->pandas->datasets==2.10.0) (1.16.0)\n",
            "Downloading datasets-2.10.0-py3-none-any.whl (469 kB)\n",
            "\u001b[2K   \u001b[90m━━━━━━━━━━━━━━━━━━━━━━━━━━━━━━━━━━━━━━━━\u001b[0m \u001b[32m469.0/469.0 kB\u001b[0m \u001b[31m9.5 MB/s\u001b[0m eta \u001b[36m0:00:00\u001b[0m\n",
            "\u001b[?25hDownloading dill-0.3.6-py3-none-any.whl (110 kB)\n",
            "\u001b[2K   \u001b[90m━━━━━━━━━━━━━━━━━━━━━━━━━━━━━━━━━━━━━━━━\u001b[0m \u001b[32m110.5/110.5 kB\u001b[0m \u001b[31m12.0 MB/s\u001b[0m eta \u001b[36m0:00:00\u001b[0m\n",
            "\u001b[?25hDownloading responses-0.18.0-py3-none-any.whl (38 kB)\n",
            "Downloading multiprocess-0.70.14-py310-none-any.whl (134 kB)\n",
            "\u001b[2K   \u001b[90m━━━━━━━━━━━━━━━━━━━━━━━━━━━━━━━━━━━━━━━━\u001b[0m \u001b[32m134.3/134.3 kB\u001b[0m \u001b[31m13.6 MB/s\u001b[0m eta \u001b[36m0:00:00\u001b[0m\n",
            "\u001b[?25hDownloading xxhash-3.5.0-cp310-cp310-manylinux_2_17_x86_64.manylinux2014_x86_64.whl (194 kB)\n",
            "\u001b[2K   \u001b[90m━━━━━━━━━━━━━━━━━━━━━━━━━━━━━━━━━━━━━━━━\u001b[0m \u001b[32m194.1/194.1 kB\u001b[0m \u001b[31m19.6 MB/s\u001b[0m eta \u001b[36m0:00:00\u001b[0m\n",
            "\u001b[?25hInstalling collected packages: xxhash, dill, responses, multiprocess, datasets\n",
            "Successfully installed datasets-2.10.0 dill-0.3.6 multiprocess-0.70.14 responses-0.18.0 xxhash-3.5.0\n"
          ]
        }
      ],
      "source": [
        "# Pytorch is typically already installed in Google Colab (uncomment to install):\n",
        "# !pip install torch==1.8.0\n",
        "# or for GPU support:\n",
        "# !pip install torch==1.8.0+cu111 -f https://download.pytorch.org/whl/torch_stable.html\n",
        "!pip install transformers==4.27.0\n",
        "!pip install datasets==2.10.0\n",
        "# NLTK is typically also already installed in Google Colab (uncomment to install):\n",
        "# !pip install nltk==3.8.1"
      ]
    },
    {
      "cell_type": "markdown",
      "metadata": {
        "id": "iw76yPDhOia1"
      },
      "source": [
        "## Download NMT data"
      ]
    },
    {
      "cell_type": "markdown",
      "metadata": {
        "id": "AL42TT6Tb0S7"
      },
      "source": [
        "We first download the data for NMT, which contains pairs of parallel sentences."
      ]
    },
    {
      "cell_type": "code",
      "execution_count": 3,
      "metadata": {
        "id": "TmD7lPOXOlm2"
      },
      "outputs": [],
      "source": [
        "!wget --quiet https://princeton-nlp.github.io/cos484/assignments/a4/resources.zip\n",
        "!unzip -qo resources.zip"
      ]
    },
    {
      "cell_type": "markdown",
      "metadata": {
        "id": "l5TS8PG0Os0f"
      },
      "source": [
        "## Data preprocessing\n",
        "In this section we will write code to load and tokenize the data for NMT.\n",
        "\n",
        "\n",
        "The parallel data is provided as huggingface datasets, one for each split of `train`, `validation` and `test`. We load it via the `load_from_disk` method and inspect its features. If you'd like to know more about these dataset objects, have a look at [this tutorial](https://huggingface.co/docs/datasets/access)."
      ]
    },
    {
      "cell_type": "code",
      "source": [
        "!ls /content/resources\n"
      ],
      "metadata": {
        "colab": {
          "base_uri": "https://localhost:8080/"
        },
        "id": "imw5EuGZZLmb",
        "outputId": "09a73bfc-8aa7-49d7-9370-c451556d77a3"
      },
      "execution_count": 4,
      "outputs": [
        {
          "output_type": "stream",
          "name": "stdout",
          "text": [
            "parallel_en_fr_corpus  tokenizer_en  tokenizer_fr\n"
          ]
        }
      ]
    },
    {
      "cell_type": "code",
      "execution_count": 5,
      "metadata": {
        "id": "dxi3D2oX1iIK",
        "colab": {
          "base_uri": "https://localhost:8080/"
        },
        "outputId": "ffc3b6f5-438a-4be8-c598-f1ee448ad0a8"
      },
      "outputs": [
        {
          "output_type": "stream",
          "name": "stdout",
          "text": [
            "Summary of splits: DatasetDict({\n",
            "    train: Dataset({\n",
            "        features: ['text_en', 'text_fr'],\n",
            "        num_rows: 8701\n",
            "    })\n",
            "    validation: Dataset({\n",
            "        features: ['text_en', 'text_fr'],\n",
            "        num_rows: 485\n",
            "    })\n",
            "    test: Dataset({\n",
            "        features: ['text_en', 'text_fr'],\n",
            "        num_rows: 486\n",
            "    })\n",
            "})\n",
            "First training example: {'text_en': 'i m tough .', 'text_fr': 'je suis dure .'}\n"
          ]
        }
      ],
      "source": [
        "from datasets import load_from_disk\n",
        "\n",
        "raw_text_datasets = load_from_disk(\"file:///content/resources/parallel_en_fr_corpus\")\n",
        "\n",
        "\n",
        "print(\"Summary of splits:\", raw_text_datasets)\n",
        "print(\"First training example:\", raw_text_datasets[\"train\"][0])"
      ]
    },
    {
      "cell_type": "markdown",
      "metadata": {
        "id": "n1NmS9j01iIK"
      },
      "source": [
        "You are also provided with two pre-trained tokenizers for the source and target languages respectively, which we can load with the hugginface transfomers library. [This tutorial](https://huggingface.co/docs/transformers/preprocessing#natural-language-processing) provides an introduction to using pre-trained tokenizers and the powerful `AutoTokenizer` class. The tokenizers are based on byte-pair encodings which break words into smaller units. This is aimed at reducing the sparsity of words, as subwords can be shared between different rare words. If you are interested in learning more, see the paper [Neural Machine Translation of Rare Words with Subword Units](https://www.aclweb.org/anthology/P16-1162.pdf)."
      ]
    },
    {
      "cell_type": "code",
      "execution_count": 6,
      "metadata": {
        "id": "Iqnyk7Xo1iIK",
        "colab": {
          "base_uri": "https://localhost:8080/"
        },
        "outputId": "d1108ed1-4b2a-444d-d5a8-bbe83d8f1b9c"
      },
      "outputs": [
        {
          "output_type": "stream",
          "name": "stdout",
          "text": [
            "Vocab size of source language: 3200\n",
            "Vocab size of target language: 3200\n",
            "\n",
            "*** Example ***\n",
            "Example sentence: we have an example\n",
            "Tokenizer output: {'input_ids': [1, 64, 324, 103, 266, 1490, 92, 2], 'token_type_ids': [0, 0, 0, 0, 0, 0, 0, 0], 'attention_mask': [1, 1, 1, 1, 1, 1, 1, 1]}\n",
            "Tokens: ['<s>', '▁we', '▁have', '▁an', '▁ex', 'amp', 'le', '</s>']\n",
            "Reconstructed sentence <s> we have an example</s>\n"
          ]
        }
      ],
      "source": [
        "from transformers import AutoTokenizer\n",
        "source_tokenizer = AutoTokenizer.from_pretrained(\"resources/tokenizer_fr\")\n",
        "target_tokenizer = AutoTokenizer.from_pretrained(\"resources/tokenizer_en\")\n",
        "\n",
        "print(\"Vocab size of source language:\", source_tokenizer.vocab_size)\n",
        "print(\"Vocab size of target language:\", target_tokenizer.vocab_size)\n",
        "\n",
        "# As a demonstration, we will the following English sentence to tokens.\n",
        "example_sentence = \"we have an example\"\n",
        "tokenizer_output = target_tokenizer(example_sentence)\n",
        "print(\"\\n*** Example ***\")\n",
        "print(\"Example sentence:\", example_sentence)\n",
        "print(\"Tokenizer output:\", tokenizer_output)\n",
        "\n",
        "# We convert every token id to its associated string, but find the special character ▁ which indicates the beginning of a word.\n",
        "# Note that very common words are represented by a single token, while others are split into subunits due to the small vocab size.\n",
        "# Also note that †he tokenizer already adds special tokens to the beginning and end of the sentence.\n",
        "decoded_sequence = [target_tokenizer.decode(token) for token in tokenizer_output[\"input_ids\"]]\n",
        "print(\"Tokens:\", decoded_sequence)\n",
        "\n",
        "# By replacing the special character ▁ with whitespace, we can reconstruct a legibile sentence,\n",
        "# which differs from the original example by special tokens, includings <unk> tokens, and minor whitespace differences.\n",
        "reconstructed = \"\".join(decoded_sequence).replace(\"▁\", \" \")\n",
        "print(\"Reconstructed sentence\", reconstructed)"
      ]
    },
    {
      "cell_type": "markdown",
      "metadata": {
        "id": "4ui6m-oh1iIL"
      },
      "source": [
        "We now want to convert the entire dataset to token ids.\n",
        "Specifically, we want to use the tokenizers to create a dataset with\n",
        "features \"encoder_input_ids\" and \"decoder_input_ids\", which both have type `List[int]`\n",
        "and which will later be the inputs to our encoder-decoder model. We will implement this using the powerful `map` function. You can find its API reference [here](https://huggingface.co/docs/datasets/v2.10.0/en/package_reference/main_classes#datasets.Dataset.map)."
      ]
    },
    {
      "cell_type": "code",
      "source": [
        "print(raw_text_datasets[\"train\"].column_names)\n"
      ],
      "metadata": {
        "colab": {
          "base_uri": "https://localhost:8080/"
        },
        "id": "ql1FMXYBdJwY",
        "outputId": "0115ff2d-f805-4a47-c859-5d4a7e955d68"
      },
      "execution_count": 7,
      "outputs": [
        {
          "output_type": "stream",
          "name": "stdout",
          "text": [
            "['text_en', 'text_fr']\n"
          ]
        }
      ]
    },
    {
      "cell_type": "code",
      "execution_count": 8,
      "metadata": {
        "id": "XPb6HpAH1iIL",
        "colab": {
          "base_uri": "https://localhost:8080/",
          "height": 17,
          "referenced_widgets": [
            "c04eee465c624b3a9429306306cde5ab",
            "aa7e5cc936a94c4c910c3c123e5a50fe",
            "a26496b1d3294956bb43af92254f1c0e",
            "a2f7c774705e4097baf2fa7373f1acdd",
            "5cc881157e5a4b20b63a5a236cbde9b9",
            "972090b1400e4515a590bd9aa8e168c5",
            "17c4919a6524436dbbf8b0549a70dd45",
            "cba1e23f54a14edfb5844246313d3fbe",
            "c451de97a891470f874a27895e613d4b",
            "d4599f24ad374bb7a75738753bfeb3e1",
            "cf3b664a53144b9fb932b5136c5b61e6",
            "a06226d32f3e4c39bbb6b7ba19fa2335",
            "bcb2932fde7948bb8623dc891fa9e93f",
            "c04ff480517840feaa583ac7b5798cb0",
            "190dc2dc93154a018974cf0168088aed",
            "20557466636f42ec8f7d52f4fade4413",
            "275c78fa2a5a47e19ece43364e633fa6",
            "f8e00bbcc4734a9997fd42b6f6df050e",
            "0f6443d425224b4780d4b1d116e5ed94",
            "2aef8107dd9e4aec9b1a32e14778c9d2",
            "a5c48957a0bf42399b49be0ee5d8c415",
            "4b644359885140a0bd7589dd100a83c4",
            "fde76df4c6fd4e2b8510eb4e8c365e91",
            "71f8656ad8fb4f6cbdf2b525f1c10e01",
            "e722e426da884510aba8ae5bb12375ec",
            "5ff0450a741b4ac4a9915ab710e27ba2",
            "a6a2e00a3b464a61823285fb890fa4b6",
            "5985b3042438422bb2cf5764af08f36a",
            "6bb6807854634c25a8cb6a28357ef17c",
            "3ee7500396a84762b83e916b59f9f8ae",
            "6e5246c5cdca463fb20a64dd7682b2d1",
            "a4c6717be82842bc95c3be37d1bcb684",
            "95ddf1c0615144949a8190e75446ffef"
          ]
        },
        "outputId": "0014b3ca-63af-4c3a-e174-d246c211d249"
      },
      "outputs": [
        {
          "output_type": "display_data",
          "data": {
            "text/plain": [
              "Map:   0%|          | 0/8701 [00:00<?, ? examples/s]"
            ],
            "application/vnd.jupyter.widget-view+json": {
              "version_major": 2,
              "version_minor": 0,
              "model_id": "c04eee465c624b3a9429306306cde5ab"
            }
          },
          "metadata": {}
        },
        {
          "output_type": "display_data",
          "data": {
            "text/plain": [
              "Map:   0%|          | 0/485 [00:00<?, ? examples/s]"
            ],
            "application/vnd.jupyter.widget-view+json": {
              "version_major": 2,
              "version_minor": 0,
              "model_id": "a06226d32f3e4c39bbb6b7ba19fa2335"
            }
          },
          "metadata": {}
        },
        {
          "output_type": "display_data",
          "data": {
            "text/plain": [
              "Map:   0%|          | 0/486 [00:00<?, ? examples/s]"
            ],
            "application/vnd.jupyter.widget-view+json": {
              "version_major": 2,
              "version_minor": 0,
              "model_id": "fde76df4c6fd4e2b8510eb4e8c365e91"
            }
          },
          "metadata": {}
        }
      ],
      "source": [
        "from typing import Dict, List\n",
        "\n",
        "def map_example(example: Dict[str, str]) -> Dict[str, List[int]]:\n",
        "    # Tokenize the source and target text for an entry in the parallel dataset\n",
        "    # and return a dictionary with the keys \"encoder_input_ids\" and \"decoder_input_ids\".\n",
        "\n",
        "    # Use the correct column names 'text_fr' for source (French) and 'text_en' for target (English)\n",
        "    encoder_input_ids = source_tokenizer(example[\"text_fr\"], truncation=True, padding=\"max_length\", max_length=128)[\"input_ids\"]\n",
        "    decoder_input_ids = target_tokenizer(example[\"text_en\"], truncation=True, padding=\"max_length\", max_length=128)[\"input_ids\"]\n",
        "\n",
        "    return {\n",
        "        \"encoder_input_ids\": encoder_input_ids,\n",
        "        \"decoder_input_ids\": decoder_input_ids\n",
        "    }\n",
        "\n",
        "# When map is applied to the DatasetDict object, it will apply `map_example` separately to each split.\n",
        "tokenized_datasets = raw_text_datasets.map(map_example, batched=False)\n",
        "\n",
        "# The `remove_columns` removes the existing text features from the new dataset, as they are no longer needed.\n",
        "tokenized_datasets = tokenized_datasets.remove_columns(raw_text_datasets.column_names[\"train\"])\n",
        "\n",
        "# Sanity checks on the new dataset\n",
        "assert set(tokenized_datasets.column_names[\"train\"]) == {\"decoder_input_ids\", \"encoder_input_ids\"}\n",
        "assert len(tokenized_datasets[\"train\"]) == len(raw_text_datasets[\"train\"])\n"
      ]
    },
    {
      "cell_type": "markdown",
      "metadata": {
        "id": "L3qPsuS71iIL"
      },
      "source": [
        "## Transformer model for NMT"
      ]
    },
    {
      "cell_type": "markdown",
      "metadata": {
        "id": "R90j2WL61iIM"
      },
      "source": [
        "We will now implement a encoder-decoder transformer model.\n",
        "We already provide code for the Feedforward Layers and Transformer Blocks, but you will have to implement the MultiHeadAttention and Embedding layer from scratch, as well as registering all the layers in the final EncoderDecoderModel. Pay attention to doc-strings and typing information to understand the context and purpose of each missing code block!"
      ]
    },
    {
      "cell_type": "code",
      "execution_count": 9,
      "metadata": {
        "id": "nVjxNtLz1iIM"
      },
      "outputs": [],
      "source": [
        "import torch\n",
        "import torch.nn as nn\n",
        "import torch.nn.functional as F\n",
        "\n",
        "import math\n",
        "from typing import Optional, Dict, List, Tuple"
      ]
    },
    {
      "cell_type": "code",
      "execution_count": 10,
      "metadata": {
        "id": "7pMQHadt1iIM"
      },
      "outputs": [],
      "source": [
        "import torch\n",
        "import torch.nn as nn\n",
        "import torch.nn.functional as F\n",
        "import math\n",
        "from typing import Optional, Tuple\n",
        "\n",
        "class MultiHeadAttention(nn.Module):\n",
        "    def __init__(self,\n",
        "                 hidden_size: int,\n",
        "                 num_attention_heads: int,\n",
        "                 is_causal_attention: bool = False,\n",
        "                 is_cross_attention: bool = False):\n",
        "        \"\"\"\n",
        "        Multi-head attention mechanism with optional causal and cross-attention.\n",
        "\n",
        "        Args:\n",
        "            hidden_size: The dimensionality of the input vectors.\n",
        "            num_attention_heads: The number of attention heads.\n",
        "            is_causal_attention: Whether to apply causal masking (self-attention).\n",
        "            is_cross_attention: Whether to perform cross-attention (using encoder outputs for keys and values).\n",
        "        \"\"\"\n",
        "        super(MultiHeadAttention, self).__init__()\n",
        "        assert hidden_size % num_attention_heads == 0, \"The hidden size must be divisible by the number of attention heads.\"\n",
        "\n",
        "        self.hidden_size = hidden_size\n",
        "        self.num_attention_heads = num_attention_heads\n",
        "        self.head_dim = hidden_size // num_attention_heads\n",
        "\n",
        "        self.is_causal_attention = is_causal_attention\n",
        "        self.is_cross_attention = is_cross_attention\n",
        "\n",
        "        # Define projection layers for queries, keys, and values\n",
        "        self.query_projection = nn.Linear(hidden_size, hidden_size)\n",
        "        self.key_projection = nn.Linear(hidden_size, hidden_size)\n",
        "        self.value_projection = nn.Linear(hidden_size, hidden_size)\n",
        "\n",
        "        # Output projection layer\n",
        "        self.output_projection = nn.Linear(hidden_size, hidden_size)\n",
        "\n",
        "    def causal_attention_mask(self, sequence_length: int, device: Optional[torch.device] = None) -> torch.FloatTensor:\n",
        "        \"\"\"\n",
        "        Generate a causal attention mask for self-attention.\n",
        "\n",
        "        Args:\n",
        "            sequence_length: The length of the sequence to generate a mask for.\n",
        "            device: The device to store the mask on (optional).\n",
        "\n",
        "        Returns:\n",
        "            A mask tensor of shape (1, 1, sequence_length, sequence_length) with negative values above the diagonal.\n",
        "        \"\"\"\n",
        "        mask = torch.triu(torch.ones(sequence_length, sequence_length), diagonal=1)\n",
        "        mask = mask.float().masked_fill(mask == 1, float('-inf'))  # Set the upper triangle to -inf\n",
        "        return mask.unsqueeze(0).unsqueeze(0).to(device)\n",
        "\n",
        "    def forward(self,\n",
        "                hidden_states: torch.FloatTensor,\n",
        "                key_padding_mask: torch.BoolTensor,\n",
        "                encoder_outputs: Optional[torch.FloatTensor] = None) -> Tuple[torch.FloatTensor, torch.FloatTensor]:\n",
        "        \"\"\"\n",
        "        Perform scaled dot-product attention.\n",
        "\n",
        "        Args:\n",
        "            hidden_states: Input tensor of shape (batch_size, sequence_length, hidden_size).\n",
        "            key_padding_mask: Mask to ignore padding tokens during attention.\n",
        "            encoder_outputs: Optional tensor of shape (batch_size, encoder_sequence_length, hidden_size),\n",
        "                              used in cross-attention.\n",
        "\n",
        "        Returns:\n",
        "            A tuple (output, attention_weights) where:\n",
        "            - output: Attention output of shape (batch_size, sequence_length, hidden_size).\n",
        "            - attention_weights: Normalized attention weights.\n",
        "        \"\"\"\n",
        "        batch_size, seq_len, _ = hidden_states.size()\n",
        "\n",
        "        # Project the input hidden states to query, key, and value\n",
        "        queries = self.query_projection(hidden_states)  # (batch_size, seq_len, hidden_size)\n",
        "        keys = self.key_projection(encoder_outputs if self.is_cross_attention else hidden_states)  # (batch_size, seq_len, hidden_size)\n",
        "        values = self.value_projection(encoder_outputs if self.is_cross_attention else hidden_states)  # (batch_size, seq_len, hidden_size)\n",
        "\n",
        "        # Reshape to (batch_size, num_heads, seq_len, head_dim)\n",
        "        queries = queries.view(batch_size, seq_len, self.num_attention_heads, self.head_dim).transpose(1, 2)\n",
        "\n",
        "        # For cross-attention, keys and values come from encoder outputs\n",
        "        if self.is_cross_attention:\n",
        "            encoder_seq_len = encoder_outputs.size(1)\n",
        "            keys = keys.view(batch_size, encoder_seq_len, self.num_attention_heads, self.head_dim).transpose(1, 2)\n",
        "            values = values.view(batch_size, encoder_seq_len, self.num_attention_heads, self.head_dim).transpose(1, 2)\n",
        "        else:\n",
        "            keys = keys.view(batch_size, seq_len, self.num_attention_heads, self.head_dim).transpose(1, 2)\n",
        "            values = values.view(batch_size, seq_len, self.num_attention_heads, self.head_dim).transpose(1, 2)\n",
        "\n",
        "        # Compute attention scores: (batch_size, num_heads, seq_len, seq_len)\n",
        "        attention_scores = torch.matmul(queries, keys.transpose(-1, -2))  # (batch_size, num_heads, seq_len, seq_len)\n",
        "        attention_scores = attention_scores / math.sqrt(self.head_dim)\n",
        "\n",
        "        # Apply causal mask if necessary\n",
        "        if self.is_causal_attention:\n",
        "            mask = self.causal_attention_mask(seq_len, hidden_states.device)\n",
        "            attention_scores += mask\n",
        "\n",
        "        # Apply padding mask if necessary\n",
        "        attention_scores = attention_scores.masked_fill(key_padding_mask.unsqueeze(1).unsqueeze(2), float('-inf'))\n",
        "\n",
        "        # Normalize attention scores\n",
        "        attention_weights = F.softmax(attention_scores, dim=-1)  # (batch_size, num_heads, seq_len, seq_len)\n",
        "\n",
        "        # Compute the weighted sum of the values: (batch_size, num_heads, seq_len, head_dim)\n",
        "        attention_output = torch.matmul(attention_weights, values)  # (batch_size, num_heads, seq_len, head_dim)\n",
        "\n",
        "        # Reshape the output back to (batch_size, seq_len, hidden_size)\n",
        "        attention_output = attention_output.transpose(1, 2).contiguous().view(batch_size, seq_len, self.hidden_size)\n",
        "\n",
        "        # Apply the output projection\n",
        "        output = self.output_projection(attention_output)\n",
        "\n",
        "        return output, attention_weights\n"
      ]
    },
    {
      "cell_type": "markdown",
      "metadata": {
        "id": "JNhiLcSw1iIM"
      },
      "source": [
        "Before we move on to the other modules, you should implement a sanity check for your attention implementation:\n",
        "1. We check the dimensions of the output of the layer and\n",
        "2. We plot the attention weights to some toy embedding inputs.\n",
        "We assume that the last token in the encoder and the last two tokens in the decoder are pad tokens."
      ]
    },
    {
      "cell_type": "code",
      "execution_count": 11,
      "metadata": {
        "id": "epu_wgGi1iIM"
      },
      "outputs": [],
      "source": [
        "embed_dim = 8\n",
        "num_heads = 2\n",
        "batch_size = 1\n",
        "encoder_seq_length = 5\n",
        "decoder_seq_length = 7\n",
        "\n",
        "encoder_outputs = torch.randn(batch_size, encoder_seq_length, embed_dim)\n",
        "decoder_inputs = torch.randn(batch_size, decoder_seq_length, embed_dim)\n",
        "\n",
        "encoder_padding_mask = torch.zeros(batch_size, encoder_seq_length, dtype=torch.bool)\n",
        "encoder_padding_mask[:, -1] = True # The last encoder token is a padding tokens\n",
        "\n",
        "decoder_padding_mask = torch.zeros(batch_size, decoder_seq_length, dtype=torch.bool)\n",
        "decoder_padding_mask[:, -2:] = True # The last two decoder tokens are padding token\n",
        "\n",
        "\n",
        "cross_attention = MultiHeadAttention(embed_dim, num_heads, is_cross_attention=True)\n",
        "causal_attention = MultiHeadAttention(embed_dim, num_heads, is_causal_attention=True)\n",
        "\n",
        "cross_attention_out, cross_attention_weights = cross_attention(decoder_inputs, encoder_padding_mask, encoder_outputs)\n",
        "causal_attention_out, causal_attention_weights = causal_attention(decoder_inputs, decoder_padding_mask)\n",
        "\n",
        "# Make sure your outputs have the right hapes\n",
        "assert cross_attention_out.shape == (batch_size, decoder_seq_length, embed_dim)\n",
        "assert cross_attention_weights.shape == (batch_size, num_heads, decoder_seq_length, encoder_seq_length)\n",
        "assert causal_attention_out.shape == (batch_size, decoder_seq_length, embed_dim)\n",
        "assert causal_attention_weights.shape == (batch_size, num_heads, decoder_seq_length, decoder_seq_length)\n",
        "\n",
        "# Check that the attention weights are normalized\n",
        "assert torch.isclose(cross_attention_weights.sum(dim=-1), torch.tensor(1.0)).all()\n",
        "assert torch.isclose(causal_attention_weights.sum(dim=-1), torch.tensor(1.0)).all()\n",
        "\n",
        "# Check if the attention masking works\n",
        "assert torch.isclose(cross_attention_weights[:,:,:,-1], torch.tensor(0.0)).all()\n",
        "assert torch.isclose(causal_attention_weights[:,:,:,-2:], torch.tensor(0.0)).all()\n",
        "assert torch.isclose(causal_attention_weights[:,:,2,3:], torch.tensor(0.0)).all()\n",
        "\n",
        "\n"
      ]
    },
    {
      "cell_type": "code",
      "source": [
        "import numpy as np\n",
        "import matplotlib.pyplot as plt\n",
        "\n",
        "def plot_attention_matrix(attention_matrix, title):\n",
        "    \"\"\"Creates a new figure and plots the normalized attention weights as a heatmap.\n",
        "\n",
        "    Args:\n",
        "        attention_matrix: A numpy array of shape (number_of_query_tokens, number_of_key_tokens)\n",
        "        title: The title of the plot.\n",
        "    \"\"\"\n",
        "    plt.figure(figsize=(8, 6))\n",
        "    plt.imshow(attention_matrix, cmap='viridis', aspect='auto', origin='lower')\n",
        "    plt.colorbar(label='Attention Weight')\n",
        "    plt.title(title)\n",
        "    plt.xlabel(\"Key Token Position\")\n",
        "    plt.ylabel(\"Query Token Position\")\n",
        "    plt.tight_layout()\n",
        "    plt.show()\n",
        "\n",
        "# Assuming `cross_attention_weights` and `causal_attention_weights` are 4D tensors\n",
        "# with the shape (batch_size, num_heads, sequence_length, sequence_length)\n",
        "# We plot the attention weights for each attention head.\n",
        "plot_attention_matrix(cross_attention_weights[0,0].detach().numpy(), \"Cross-Attention, Head 1\")\n",
        "plot_attention_matrix(cross_attention_weights[0,1].detach().numpy(), \"Cross-Attention, Head 2\")\n",
        "plot_attention_matrix(causal_attention_weights[0,0].detach().numpy(), \"Causal Self-Attention, Head 1\")\n",
        "plot_attention_matrix(causal_attention_weights[0,1].detach().numpy(), \"Causal Self-Attention, Head 2\")\n"
      ],
      "metadata": {
        "colab": {
          "base_uri": "https://localhost:8080/",
          "height": 1000
        },
        "id": "lW7uMiQXd3d4",
        "outputId": "410d9675-75b3-4d2d-cbe0-55d0005d6321"
      },
      "execution_count": 12,
      "outputs": [
        {
          "output_type": "display_data",
          "data": {
            "text/plain": [
              "<Figure size 800x600 with 2 Axes>"
            ],
            "image/png": "[encoded data removed]"
          },
          "metadata": {}
        },
        {
          "output_type": "display_data",
          "data": {
            "text/plain": [
              "<Figure size 800x600 with 2 Axes>"
            ],
            "image/png": "[encoded data removed]"
          },
          "metadata": {}
        },
        {
          "output_type": "display_data",
          "data": {
            "text/plain": [
              "<Figure size 800x600 with 2 Axes>"
            ],
            "image/png": "[encoded data removed]"
          },
          "metadata": {}
        },
        {
          "output_type": "display_data",
          "data": {
            "text/plain": [
              "<Figure size 800x600 with 2 Axes>"
            ],
            "image/png": "[encoded data removed]"
          },
          "metadata": {}
        }
      ]
    },
    {
      "cell_type": "code",
      "execution_count": 13,
      "metadata": {
        "id": "d86pBrD71iIN"
      },
      "outputs": [],
      "source": [
        "import torch\n",
        "import torch.nn as nn\n",
        "import torch.nn.functional as F\n",
        "\n",
        "class TransformerEmbeddings(nn.Module):\n",
        "    def __init__(self, vocab_size: int, hidden_size: int, max_sequence_length: int):\n",
        "        \"\"\"Defines the embedding layer with learnt positional embeddings.\n",
        "\n",
        "        This layer defines both the token embeddings and positional embeddings,\n",
        "        which are added together to form the final embedding.\n",
        "\n",
        "        Args:\n",
        "            vocab_size: The size of the vocabulary,\n",
        "                        used to define the size of the token embedding table.\n",
        "            hidden_size: The dimensionality of the embedding space for both token embeddings and positional embeddings.\n",
        "            max_sequence_length: The maximum sequence length of the input sequences,\n",
        "                        used to define the size of the position embedding table.\n",
        "\n",
        "        Note that this implementation does not use dropout on the embeddings\n",
        "        and uses learnt positional embeddings instead of sinusoidal embeddings.\n",
        "        \"\"\"\n",
        "        super().__init__()\n",
        "\n",
        "        # Token embedding layer\n",
        "        self.token_embeddings = nn.Embedding(vocab_size, hidden_size)\n",
        "\n",
        "        # Positional embedding layer\n",
        "        self.position_embeddings = nn.Embedding(max_sequence_length, hidden_size)\n",
        "\n",
        "    def compute_logits(self, decoder_output: torch.FloatTensor) -> torch.FloatTensor:\n",
        "        \"\"\"Computes the logits for the next token prediction given the decoder output.\n",
        "\n",
        "        Args:\n",
        "            decoder_output: Tensor of shape (batch_size, sequence_length, hidden_size) - the output of the decoder.\n",
        "\n",
        "        Returns:\n",
        "            Tensor of shape (batch_size, sequence_length, vocab_size) containing the logits for the next token prediction.\n",
        "        \"\"\"\n",
        "        # We can compute the logits by projecting the decoder output to the vocabulary size\n",
        "        logits = torch.matmul(decoder_output, self.token_embeddings.weight.T)\n",
        "        return logits\n",
        "\n",
        "    def forward(self, input_ids: torch.LongTensor) -> torch.FloatTensor:\n",
        "        \"\"\"Computes the embeddings for the input tokens.\n",
        "\n",
        "        Args:\n",
        "            input_ids: Tensor of shape (batch_size, sequence_length) containing the input token ids.\n",
        "\n",
        "        Returns:\n",
        "            Tensor of shape (batch_size, sequence_length, hidden_size) containing\n",
        "                    the sum of token embeddings and position embeddings for the input tokens.\n",
        "        \"\"\"\n",
        "        # Get token embeddings\n",
        "        token_embeds = self.token_embeddings(input_ids)  # (batch_size, sequence_length, hidden_size)\n",
        "\n",
        "        # Generate position indices (0, 1, 2, ..., seq_len-1)\n",
        "        batch_size, seq_len = input_ids.size()\n",
        "        position_indices = torch.arange(seq_len, device=input_ids.device).unsqueeze(0).expand(batch_size, seq_len)\n",
        "\n",
        "        # Get positional embeddings\n",
        "        position_embeds = self.position_embeddings(position_indices)  # (batch_size, sequence_length, hidden_size)\n",
        "\n",
        "        # Sum the token embeddings and position embeddings\n",
        "        embeddings = token_embeds + position_embeds\n",
        "\n",
        "        return embeddings\n"
      ]
    },
    {
      "cell_type": "code",
      "execution_count": 14,
      "metadata": {
        "id": "CFW-eNNB1iIN"
      },
      "outputs": [],
      "source": [
        "class TransformerBlock(nn.Module):\n",
        "    def __init__(self,\n",
        "                 hidden_size: int,\n",
        "                 intermediate_size: int,\n",
        "                 num_attention_heads: int,\n",
        "                 hidden_dropout_prob: float,\n",
        "                 is_decoder: bool = False):\n",
        "        \"\"\"Defines a single Transformer block, which can be either for the encoder or the decoder.\n",
        "\n",
        "        Args:\n",
        "            hidden_size: The dimensionality of the input and output vectors of this layer.\n",
        "            intermediate_size: The intermediate size of the feedforward layers.\n",
        "            num_attention_heads: The number of attention heads.\n",
        "            hidden_dropout_prob: The dropout probability for the hidden states.\n",
        "            is_decoder: Whether this block is part of the decoder.\n",
        "        \"\"\"\n",
        "        super().__init__()\n",
        "\n",
        "        self.is_decoder = is_decoder\n",
        "        self.self_attention = MultiHeadAttention(hidden_size, num_attention_heads, is_causal_attention=is_decoder)\n",
        "        self.self_attention_layer_norm = nn.LayerNorm(hidden_size)\n",
        "\n",
        "        if is_decoder:\n",
        "            self.cross_attention = MultiHeadAttention(hidden_size, num_attention_heads, is_cross_attention=True)\n",
        "            self.cross_attention_layer_norm = nn.LayerNorm(hidden_size)\n",
        "\n",
        "        self.feedforward = nn.Sequential(\n",
        "            nn.Linear(hidden_size, intermediate_size),\n",
        "            nn.ReLU(),\n",
        "            nn.Linear(intermediate_size, hidden_size),\n",
        "            nn.Dropout(hidden_dropout_prob))\n",
        "        self.feedforward_layer_norm = nn.LayerNorm(hidden_size)\n",
        "\n",
        "    def forward(self,\n",
        "                hidden_states: torch.FloatTensor,\n",
        "                padding_mask: torch.BoolTensor,\n",
        "                encoder_outputs: Optional[torch.FloatTensor] = None,\n",
        "                encoder_padding_mask: Optional[torch.BoolTensor] = None) -> torch.FloatTensor:\n",
        "        \"\"\"Defines a single Transformer block, either for the encoder or the decoder.\n",
        "\n",
        "        Args:\n",
        "            hidden_states: Tensor of shape (batch_size, sequence_length, hidden_size) - the outputs from the previous layer.\n",
        "            padding_mask: Tensor of shape (batch_size, sequence_length) indicating which tokens are padding tokens.\n",
        "                    A `True` entry means that this token should be ignored for the purpose of attention.\n",
        "            encoder_outputs: Optional tensor of shape (batch_size, encoder_sequence_length, hidden_size),\n",
        "                    which are the output vectors of the encoder. This argument is only used by decoder blocks.\n",
        "            encoder_padding_mask: Optional tensor of shape (batch_size, encoder_sequence_length) indicating\n",
        "                    which encoder tokens are padding tokens. This argument is only used in decoder blocks.\n",
        "                    A `True` entry means that this token should be ignored for the purpose of attention.\n",
        "\n",
        "        \"\"\"\n",
        "        hidden_states = self.self_attention(hidden_states, padding_mask)[0] + hidden_states\n",
        "        hidden_states = self.self_attention_layer_norm(hidden_states)\n",
        "\n",
        "        if self.is_decoder:\n",
        "            hidden_states = self.cross_attention(hidden_states, encoder_padding_mask, encoder_outputs)[0] + hidden_states\n",
        "            hidden_states = self.cross_attention_layer_norm(hidden_states)\n",
        "\n",
        "        hidden_states = self.feedforward(hidden_states) + hidden_states\n",
        "        hidden_states = self.feedforward_layer_norm(hidden_states)\n",
        "        return hidden_states"
      ]
    },
    {
      "cell_type": "code",
      "execution_count": 15,
      "metadata": {
        "id": "dC_EQSQ51iIN"
      },
      "outputs": [],
      "source": [
        "import torch\n",
        "import torch.nn as nn\n",
        "\n",
        "class EncoderDecoderModel(nn.Module):\n",
        "    def __init__(self,\n",
        "                 source_vocab_size: int,\n",
        "                 target_vocab_size: int,\n",
        "                 hidden_size: int,\n",
        "                 intermediate_size: int,\n",
        "                 num_attention_heads: int,\n",
        "                 num_encoder_layers: int,\n",
        "                 num_decoder_layers: int,\n",
        "                 max_sequence_length: int,\n",
        "                 hidden_dropout_prob: float):\n",
        "        \"\"\"A encoder-decoder transformer model which can be used for NMT.\n",
        "\n",
        "        Args:\n",
        "            source_vocab_size: The size of the source vocabulary.\n",
        "            target_vocab_size: The size of the target vocabulary.\n",
        "            hidden_size: The dimensionality of all input and output embeddings.\n",
        "            intermediate_size: The intermediate size in the feedforward layers.\n",
        "            num_attention_heads: The number of attention heads in each multi-head attention modules.\n",
        "            num_encoder_layers: The number of transformer blocks in the encoder.\n",
        "            num_decoder_layers: The number of transformer blocks in the decoder.\n",
        "            max_sequence_length: The maximum sequence length that this model can handle.\n",
        "            hidden_dropout_prob: The dropout probability in the hidden state in each block.\n",
        "        \"\"\"\n",
        "\n",
        "        super().__init__()\n",
        "\n",
        "        # Embeddings for both source and target vocabularies\n",
        "        self.source_embeddings = TransformerEmbeddings(source_vocab_size, hidden_size, max_sequence_length)\n",
        "        self.target_embeddings = TransformerEmbeddings(target_vocab_size, hidden_size, max_sequence_length)\n",
        "\n",
        "        # Encoder layers: A list of transformer blocks\n",
        "        self.encoder_blocks = nn.ModuleList([\n",
        "            TransformerBlock(hidden_size, intermediate_size, num_attention_heads, hidden_dropout_prob)\n",
        "            for _ in range(num_encoder_layers)\n",
        "        ])\n",
        "\n",
        "        # Decoder layers: A list of transformer blocks\n",
        "        self.decoder_blocks = nn.ModuleList([\n",
        "            TransformerBlock(hidden_size, intermediate_size, num_attention_heads, hidden_dropout_prob)\n",
        "            for _ in range(num_decoder_layers)\n",
        "        ])\n",
        "\n",
        "        # Output projection layer\n",
        "        self.output_layer = nn.Linear(hidden_size, target_vocab_size)\n",
        "\n",
        "    def forward_encoder(self, input_ids: torch.LongTensor, padding_mask: torch.BoolTensor) -> torch.FloatTensor:\n",
        "        \"\"\"Implement the forward pass of the encoder.\n",
        "\n",
        "        Args:\n",
        "            input_ids: tensor of shape (batch_size, sequence_length) containing the input token ids to the encoder.\n",
        "            padding_mask: tensor of shape (batch_size, sequence_length) indicating which encoder tokens are padding tokens (`True`)\n",
        "                    and should be ignored in self-attention computations.\n",
        "\n",
        "        Returns:\n",
        "            Tensor of shape (batch_size, sequence_length, hidden_size) containing the output embeddings of the encoder.\n",
        "        \"\"\"\n",
        "\n",
        "        # Get the input embeddings\n",
        "        encoder_inputs = self.source_embeddings(input_ids)\n",
        "\n",
        "        # Pass through each encoder block\n",
        "        for encoder_block in self.encoder_blocks:\n",
        "            encoder_inputs = encoder_block(encoder_inputs, padding_mask)\n",
        "\n",
        "        return encoder_inputs\n",
        "\n",
        "    def forward_decoder(self,\n",
        "                        input_ids: torch.LongTensor,\n",
        "                        padding_mask: torch.BoolTensor,\n",
        "                        encoder_outputs: torch.FloatTensor,\n",
        "                        encoder_padding_mask: torch.BoolTensor) -> torch.FloatTensor:\n",
        "        \"\"\"Implement the forward pass of the decoder.\n",
        "\n",
        "        Args:\n",
        "            input_ids: Tensor of shape (batch_size, sequence_length) containing the input token ids to the decoder.\n",
        "            padding_mask: Tensor of shape (batch_size, sequence_length) indicating which decoder tokens are padding tokens (`True`)\n",
        "                    and should be ignored in self-attention computations.\n",
        "            encoder_outputs: Tensor of shape (batch_size, encoder_sequence_length, hidden_size) containing the output embeddings of the encoder.\n",
        "            encoder_padding_mask: Tensor of shape (batch_size, encoder_sequence_length) indicating which encoder tokens are padding tokens (`True`)\n",
        "                    and should be ignored in cross-attention computations.\n",
        "\n",
        "        Returns:\n",
        "            Tensor of shape (batch_size, sequence_length, target_vocabulary_size)\n",
        "            containing the logits for predicting the next token in the target sequence.\n",
        "        \"\"\"\n",
        "\n",
        "        # Get the input embeddings for the decoder\n",
        "        decoder_inputs = self.target_embeddings(input_ids)\n",
        "\n",
        "        # Pass through each decoder block\n",
        "        for decoder_block in self.decoder_blocks:\n",
        "            decoder_inputs = decoder_block(decoder_inputs, padding_mask, encoder_outputs, encoder_padding_mask)\n",
        "\n",
        "        # Project the decoder output to vocabulary size\n",
        "        logits = self.output_layer(decoder_inputs)\n",
        "\n",
        "        return logits\n",
        "\n",
        "    def forward(self, encoder_input_ids, encoder_padding_mask, decoder_input_ids, decoder_padding_mask):\n",
        "        # Forward pass through encoder\n",
        "        encoder_outputs = self.forward_encoder(encoder_input_ids, encoder_padding_mask)\n",
        "\n",
        "        # Forward pass through decoder\n",
        "        decoder_logits = self.forward_decoder(decoder_input_ids, decoder_padding_mask, encoder_outputs, encoder_padding_mask)\n",
        "\n",
        "        return decoder_logits\n"
      ]
    },
    {
      "cell_type": "markdown",
      "metadata": {
        "id": "Mbf1FkZteHIW"
      },
      "source": [
        "## Train the model\n",
        "\n",
        "In this section, we train the seq2seq model on the parallel tokenized corpus.\n",
        "Before you start training models, you should implement and test the model and its sub-modules, especially the attention.\n",
        "\n",
        "First, we implement a `collate` function, which takes a list of examples from the dataset and forms a batch,\n",
        "consisting of padded encoder and decoder input ids, as well as encoder and decoder padding masks."
      ]
    },
    {
      "cell_type": "code",
      "execution_count": 16,
      "metadata": {
        "id": "VknfRSbb1iIN"
      },
      "outputs": [],
      "source": [
        "def collate_fn(examples: List[Dict[str, List[int]]]) -> Dict[str, torch.Tensor]:\n",
        "    \"\"\"Collates a list of variable length sequences from the dataset into a batch of pytorch tensors with padding.\"\"\"\n",
        "\n",
        "    encoder_sequence_length = max(len(example[\"encoder_input_ids\"]) for example in examples)\n",
        "    decoder_sequence_length = max(len(example[\"decoder_input_ids\"]) for example in examples)\n",
        "    batch_size = len(examples)\n",
        "\n",
        "    encoder_input_ids = torch.full((batch_size, encoder_sequence_length),\n",
        "                                   fill_value=source_tokenizer.pad_token_id,\n",
        "                                   dtype=torch.int64)\n",
        "    encoder_padding_mask = torch.ones((batch_size, encoder_sequence_length),\n",
        "                                      dtype=torch.bool)\n",
        "\n",
        "    decoder_input_ids = torch.full((batch_size, decoder_sequence_length),\n",
        "                                   fill_value=target_tokenizer.pad_token_id,\n",
        "                                   dtype=torch.int64)\n",
        "    decoder_padding_mask = torch.ones((batch_size, decoder_sequence_length),\n",
        "                                      dtype=torch.bool)\n",
        "\n",
        "    for i, example in enumerate(examples):\n",
        "        encoder_input_ids[i, :len(example[\"encoder_input_ids\"])] = torch.tensor(example[\"encoder_input_ids\"])\n",
        "        encoder_padding_mask[i, :len(example[\"encoder_input_ids\"])] = False\n",
        "\n",
        "        decoder_input_ids[i, :len(example[\"decoder_input_ids\"])] = torch.tensor(example[\"decoder_input_ids\"])\n",
        "        decoder_padding_mask[i, :len(example[\"decoder_input_ids\"])] = False\n",
        "\n",
        "    return {\"encoder_input_ids\": encoder_input_ids,\n",
        "            \"encoder_padding_mask\": encoder_padding_mask,\n",
        "            \"decoder_input_ids\": decoder_input_ids,\n",
        "            \"decoder_padding_mask\": decoder_padding_mask}"
      ]
    },
    {
      "cell_type": "markdown",
      "metadata": {
        "id": "Mgp3PZL21iIN"
      },
      "source": [
        "Next, we provide a simple training loop."
      ]
    },
    {
      "cell_type": "code",
      "source": [
        "import torch\n",
        "\n",
        "# Convert the lists to tensors and then find the maximum token ID\n",
        "encoder_input_ids_tensor = torch.tensor(tokenized_datasets[\"train\"][\"encoder_input_ids\"])\n",
        "decoder_input_ids_tensor = torch.tensor(tokenized_datasets[\"train\"][\"decoder_input_ids\"])\n",
        "\n",
        "# Check the maximum token IDs\n",
        "print(\"Max encoder token ID in training data:\", encoder_input_ids_tensor.max().item())\n",
        "print(\"Max decoder token ID in training data:\", decoder_input_ids_tensor.max().item())\n"
      ],
      "metadata": {
        "colab": {
          "base_uri": "https://localhost:8080/"
        },
        "id": "5q-4CiFHgKZj",
        "outputId": "1e3a0148-ed4e-48c2-f7de-ffe58c477703"
      },
      "execution_count": 17,
      "outputs": [
        {
          "output_type": "stream",
          "name": "stdout",
          "text": [
            "Max encoder token ID in training data: 3199\n",
            "Max decoder token ID in training data: 3199\n"
          ]
        }
      ]
    },
    {
      "cell_type": "code",
      "execution_count": 30,
      "metadata": {
        "id": "FeZgvg2VkRQd"
      },
      "outputs": [],
      "source": [
        "import time\n",
        "import math\n",
        "\n",
        "def compute_loss_per_token(model, batch):\n",
        "    logits = model(**batch)\n",
        "\n",
        "    valid_label_mask = ~(batch[\"decoder_padding_mask\"][:,1:])\n",
        "    labels = batch[\"decoder_input_ids\"][:,1:][valid_label_mask]\n",
        "    logits = logits[:,:-1][valid_label_mask]\n",
        "\n",
        "    return F.cross_entropy(logits, labels, reduction='none')\n",
        "\n",
        "\n",
        "def evaluate_perplexity(model, dataset, batch_size=32, device=\"cpu\"):\n",
        "    model.eval()\n",
        "\n",
        "    dev_loader = torch.utils.data.DataLoader(\n",
        "        dataset, batch_size=batch_size, shuffle=False, collate_fn=collate_fn)\n",
        "\n",
        "    num_tokens = loss_sum = 0\n",
        "\n",
        "    # no_grad() signals backend to throw away all gradients\n",
        "    with torch.no_grad():\n",
        "        for batch in dev_loader:\n",
        "            # Move tensors in batch to device\n",
        "            for key in batch:\n",
        "                batch[key] = batch[key].to(device)\n",
        "\n",
        "            token_losses = compute_loss_per_token(model, batch)\n",
        "\n",
        "            loss_sum += token_losses.sum()\n",
        "            num_tokens += token_losses.numel()\n",
        "\n",
        "        dev_ppl = (loss_sum / num_tokens).exp().cpu().item()\n",
        "    return dev_ppl\n",
        "\n",
        "\n",
        "def train(model, training_dataset, validation_dataset,\n",
        "          batch_size=32, lr=1e-3, max_epoch=10, log_every=10, valid_niter=100,\n",
        "          model_path=\"model.pt\"):\n",
        "    model.train()\n",
        "\n",
        "    device = torch.device(\"cuda\" if torch.cuda.is_available() else \"cpu\")\n",
        "    print('Use device: %s' % device)\n",
        "\n",
        "    model = model.to(device)\n",
        "\n",
        "    optimizer = torch.optim.Adam(model.parameters(), lr=lr)\n",
        "\n",
        "    epoch = global_step = loss_sum = num_tokens = num_examples = 0\n",
        "    best_valid_perplexity = float('inf')\n",
        "    train_time = begin_time = time.time()\n",
        "    print('Beginning maximum likelihood training')\n",
        "\n",
        "\n",
        "    while True:\n",
        "        train_loader = torch.utils.data.DataLoader(\n",
        "            training_dataset, batch_size=batch_size, shuffle=True, collate_fn=collate_fn)\n",
        "        epoch += 1\n",
        "        batches_per_epoch = len(train_loader)\n",
        "        for i, batch in enumerate(train_loader):\n",
        "            global_step += 1\n",
        "\n",
        "            # Move tensors in batch to device\n",
        "            for key in batch:\n",
        "                batch[key] = batch[key].to(device)\n",
        "\n",
        "            optimizer.zero_grad()\n",
        "\n",
        "            token_losses = compute_loss_per_token(model, batch)\n",
        "            total_loss = token_losses.sum()\n",
        "\n",
        "            loss = total_loss / batch_size\n",
        "            loss.backward()\n",
        "\n",
        "            optimizer.step()\n",
        "\n",
        "            loss_sum += total_loss.cpu().item()\n",
        "            num_tokens += token_losses.numel()\n",
        "            num_examples += batch_size\n",
        "\n",
        "            if global_step % log_every == 0:\n",
        "                average_loss = loss_sum / num_examples\n",
        "                average_ppl = math.exp(loss_sum / num_tokens)\n",
        "                print(f\"epoch {epoch} ({i}/{batches_per_epoch}) | step {global_step} | \"\n",
        "                      f\"avg_nll={average_loss:.2f} avg_ppl={average_ppl:.2f} \"\n",
        "                      f\"speed={num_tokens / (time.time() - train_time):.2f} words/sec \"\n",
        "                      f\"time_elapsed={time.time() - begin_time:.2f} sec\")\n",
        "\n",
        "                train_time = time.time()\n",
        "                loss_sum = num_tokens = num_examples = 0.0\n",
        "\n",
        "            if global_step % valid_niter == 0:\n",
        "                print('Begin validation ...')\n",
        "                dev_perplexity = evaluate_perplexity(model, validation_dataset, batch_size=batch_size, device=device)\n",
        "\n",
        "                print(f\"validation: step {global_step} | dev_ppl={dev_perplexity}\")\n",
        "\n",
        "                if dev_perplexity < best_valid_perplexity:\n",
        "                    best_valid_perplexity = dev_perplexity\n",
        "                    print(f\"epoch {epoch} step {global_step}: save currently the best model to '{model_path}'\")\n",
        "                    torch.save(model.state_dict(), model_path)\n",
        "                    torch.save(optimizer.state_dict(), model_path + '.optim')\n",
        "                model.train()\n",
        "\n",
        "        if epoch == max_epoch:\n",
        "            print('Reached maximum number of epochs')\n",
        "            break"
      ]
    },
    {
      "cell_type": "markdown",
      "metadata": {
        "id": "A8NLae1r1iIO"
      },
      "source": [
        "Let's train a relatively small model architecture for 15 epochs.\n",
        "With a reasonable implementation, this should take about 16 minutes on CPU / 3 minutes on GPU and we should achieve a validation perplexity of below 10!"
      ]
    },
    {
      "cell_type": "code",
      "source": [
        "import os\n",
        "os.environ[\"CUDA_LAUNCH_BLOCKING\"] = \"1\"\n"
      ],
      "metadata": {
        "id": "7CWWHC7Zs6YW"
      },
      "execution_count": 29,
      "outputs": []
    },
    {
      "cell_type": "code",
      "source": [
        "print(f\"Source vocab size: {source_tokenizer.vocab_size}\")\n",
        "print(f\"Target vocab size: {target_tokenizer.vocab_size}\")\n"
      ],
      "metadata": {
        "colab": {
          "base_uri": "https://localhost:8080/"
        },
        "id": "Q579evxFs_Dl",
        "outputId": "6cc1e80f-513c-47de-eb13-b378823d36c4"
      },
      "execution_count": 24,
      "outputs": [
        {
          "output_type": "stream",
          "name": "stdout",
          "text": [
            "Source vocab size: 3200\n",
            "Target vocab size: 3200\n"
          ]
        }
      ]
    },
    {
      "cell_type": "code",
      "execution_count": 31,
      "metadata": {
        "id": "7j8KNRx21iIO",
        "colab": {
          "base_uri": "https://localhost:8080/",
          "height": 408
        },
        "collapsed": true,
        "outputId": "edbe55e1-a49f-4d52-9ee1-e447cf3271fc"
      },
      "outputs": [
        {
          "output_type": "error",
          "ename": "RuntimeError",
          "evalue": "CUDA error: device-side assert triggered\nCUDA kernel errors might be asynchronously reported at some other API call, so the stacktrace below might be incorrect.\nFor debugging consider passing CUDA_LAUNCH_BLOCKING=1\nCompile with `TORCH_USE_CUDA_DSA` to enable device-side assertions.\n",
          "traceback": [
            "\u001b[0;31m---------------------------------------------------------------------------\u001b[0m",
            "\u001b[0;31mRuntimeError\u001b[0m                              Traceback (most recent call last)",
            "\u001b[0;32m<ipython-input-31-f585995db8b7>\u001b[0m in \u001b[0;36m<cell line: 3>\u001b[0;34m()\u001b[0m\n\u001b[1;32m      1\u001b[0m \u001b[0;31m# Set a random seed, so you obtain the same output model if you run this cell again.\u001b[0m\u001b[0;34m\u001b[0m\u001b[0;34m\u001b[0m\u001b[0m\n\u001b[1;32m      2\u001b[0m \u001b[0mseed\u001b[0m \u001b[0;34m=\u001b[0m \u001b[0;36m42\u001b[0m\u001b[0;34m\u001b[0m\u001b[0;34m\u001b[0m\u001b[0m\n\u001b[0;32m----> 3\u001b[0;31m \u001b[0mtorch\u001b[0m\u001b[0;34m.\u001b[0m\u001b[0mmanual_seed\u001b[0m\u001b[0;34m(\u001b[0m\u001b[0mseed\u001b[0m\u001b[0;34m)\u001b[0m\u001b[0;34m\u001b[0m\u001b[0;34m\u001b[0m\u001b[0m\n\u001b[0m\u001b[1;32m      4\u001b[0m \u001b[0mtorch\u001b[0m\u001b[0;34m.\u001b[0m\u001b[0mcuda\u001b[0m\u001b[0;34m.\u001b[0m\u001b[0mmanual_seed\u001b[0m\u001b[0;34m(\u001b[0m\u001b[0mseed\u001b[0m\u001b[0;34m)\u001b[0m\u001b[0;34m\u001b[0m\u001b[0;34m\u001b[0m\u001b[0m\n\u001b[1;32m      5\u001b[0m \u001b[0;34m\u001b[0m\u001b[0m\n",
            "\u001b[0;32m/usr/local/lib/python3.10/dist-packages/torch/_compile.py\u001b[0m in \u001b[0;36minner\u001b[0;34m(*args, **kwargs)\u001b[0m\n\u001b[1;32m     30\u001b[0m                 \u001b[0mfn\u001b[0m\u001b[0;34m.\u001b[0m\u001b[0m__dynamo_disable\u001b[0m \u001b[0;34m=\u001b[0m \u001b[0mdisable_fn\u001b[0m\u001b[0;34m\u001b[0m\u001b[0;34m\u001b[0m\u001b[0m\n\u001b[1;32m     31\u001b[0m \u001b[0;34m\u001b[0m\u001b[0m\n\u001b[0;32m---> 32\u001b[0;31m             \u001b[0;32mreturn\u001b[0m \u001b[0mdisable_fn\u001b[0m\u001b[0;34m(\u001b[0m\u001b[0;34m*\u001b[0m\u001b[0margs\u001b[0m\u001b[0;34m,\u001b[0m \u001b[0;34m**\u001b[0m\u001b[0mkwargs\u001b[0m\u001b[0;34m)\u001b[0m\u001b[0;34m\u001b[0m\u001b[0;34m\u001b[0m\u001b[0m\n\u001b[0m\u001b[1;32m     33\u001b[0m \u001b[0;34m\u001b[0m\u001b[0m\n\u001b[1;32m     34\u001b[0m         \u001b[0;32mreturn\u001b[0m \u001b[0minner\u001b[0m\u001b[0;34m\u001b[0m\u001b[0;34m\u001b[0m\u001b[0m\n",
            "\u001b[0;32m/usr/local/lib/python3.10/dist-packages/torch/_dynamo/eval_frame.py\u001b[0m in \u001b[0;36m_fn\u001b[0;34m(*args, **kwargs)\u001b[0m\n\u001b[1;32m    630\u001b[0m             \u001b[0mprior\u001b[0m \u001b[0;34m=\u001b[0m \u001b[0m_maybe_set_eval_frame\u001b[0m\u001b[0;34m(\u001b[0m\u001b[0mcallback\u001b[0m\u001b[0;34m)\u001b[0m\u001b[0;34m\u001b[0m\u001b[0;34m\u001b[0m\u001b[0m\n\u001b[1;32m    631\u001b[0m             \u001b[0;32mtry\u001b[0m\u001b[0;34m:\u001b[0m\u001b[0;34m\u001b[0m\u001b[0;34m\u001b[0m\u001b[0m\n\u001b[0;32m--> 632\u001b[0;31m                 \u001b[0;32mreturn\u001b[0m \u001b[0mfn\u001b[0m\u001b[0;34m(\u001b[0m\u001b[0;34m*\u001b[0m\u001b[0margs\u001b[0m\u001b[0;34m,\u001b[0m \u001b[0;34m**\u001b[0m\u001b[0mkwargs\u001b[0m\u001b[0;34m)\u001b[0m\u001b[0;34m\u001b[0m\u001b[0;34m\u001b[0m\u001b[0m\n\u001b[0m\u001b[1;32m    633\u001b[0m             \u001b[0;32mfinally\u001b[0m\u001b[0;34m:\u001b[0m\u001b[0;34m\u001b[0m\u001b[0;34m\u001b[0m\u001b[0m\n\u001b[1;32m    634\u001b[0m                 \u001b[0m_maybe_set_eval_frame\u001b[0m\u001b[0;34m(\u001b[0m\u001b[0mprior\u001b[0m\u001b[0;34m)\u001b[0m\u001b[0;34m\u001b[0m\u001b[0;34m\u001b[0m\u001b[0m\n",
            "\u001b[0;32m/usr/local/lib/python3.10/dist-packages/torch/random.py\u001b[0m in \u001b[0;36mmanual_seed\u001b[0;34m(seed)\u001b[0m\n\u001b[1;32m     44\u001b[0m \u001b[0;34m\u001b[0m\u001b[0m\n\u001b[1;32m     45\u001b[0m     \u001b[0;32mif\u001b[0m \u001b[0;32mnot\u001b[0m \u001b[0mtorch\u001b[0m\u001b[0;34m.\u001b[0m\u001b[0mcuda\u001b[0m\u001b[0;34m.\u001b[0m\u001b[0m_is_in_bad_fork\u001b[0m\u001b[0;34m(\u001b[0m\u001b[0;34m)\u001b[0m\u001b[0;34m:\u001b[0m\u001b[0;34m\u001b[0m\u001b[0;34m\u001b[0m\u001b[0m\n\u001b[0;32m---> 46\u001b[0;31m         \u001b[0mtorch\u001b[0m\u001b[0;34m.\u001b[0m\u001b[0mcuda\u001b[0m\u001b[0;34m.\u001b[0m\u001b[0mmanual_seed_all\u001b[0m\u001b[0;34m(\u001b[0m\u001b[0mseed\u001b[0m\u001b[0;34m)\u001b[0m\u001b[0;34m\u001b[0m\u001b[0;34m\u001b[0m\u001b[0m\n\u001b[0m\u001b[1;32m     47\u001b[0m \u001b[0;34m\u001b[0m\u001b[0m\n\u001b[1;32m     48\u001b[0m     \u001b[0;32mimport\u001b[0m \u001b[0mtorch\u001b[0m\u001b[0;34m.\u001b[0m\u001b[0mmps\u001b[0m\u001b[0;34m\u001b[0m\u001b[0;34m\u001b[0m\u001b[0m\n",
            "\u001b[0;32m/usr/local/lib/python3.10/dist-packages/torch/cuda/random.py\u001b[0m in \u001b[0;36mmanual_seed_all\u001b[0;34m(seed)\u001b[0m\n\u001b[1;32m    127\u001b[0m             \u001b[0mdefault_generator\u001b[0m\u001b[0;34m.\u001b[0m\u001b[0mmanual_seed\u001b[0m\u001b[0;34m(\u001b[0m\u001b[0mseed\u001b[0m\u001b[0;34m)\u001b[0m\u001b[0;34m\u001b[0m\u001b[0;34m\u001b[0m\u001b[0m\n\u001b[1;32m    128\u001b[0m \u001b[0;34m\u001b[0m\u001b[0m\n\u001b[0;32m--> 129\u001b[0;31m     \u001b[0m_lazy_call\u001b[0m\u001b[0;34m(\u001b[0m\u001b[0mcb\u001b[0m\u001b[0;34m,\u001b[0m \u001b[0mseed_all\u001b[0m\u001b[0;34m=\u001b[0m\u001b[0;32mTrue\u001b[0m\u001b[0;34m)\u001b[0m\u001b[0;34m\u001b[0m\u001b[0;34m\u001b[0m\u001b[0m\n\u001b[0m\u001b[1;32m    130\u001b[0m \u001b[0;34m\u001b[0m\u001b[0m\n\u001b[1;32m    131\u001b[0m \u001b[0;34m\u001b[0m\u001b[0m\n",
            "\u001b[0;32m/usr/local/lib/python3.10/dist-packages/torch/cuda/__init__.py\u001b[0m in \u001b[0;36m_lazy_call\u001b[0;34m(callable, **kwargs)\u001b[0m\n\u001b[1;32m    247\u001b[0m \u001b[0;32mdef\u001b[0m \u001b[0m_lazy_call\u001b[0m\u001b[0;34m(\u001b[0m\u001b[0mcallable\u001b[0m\u001b[0;34m,\u001b[0m \u001b[0;34m**\u001b[0m\u001b[0mkwargs\u001b[0m\u001b[0;34m)\u001b[0m\u001b[0;34m:\u001b[0m\u001b[0;34m\u001b[0m\u001b[0;34m\u001b[0m\u001b[0m\n\u001b[1;32m    248\u001b[0m     \u001b[0;32mif\u001b[0m \u001b[0mis_initialized\u001b[0m\u001b[0;34m(\u001b[0m\u001b[0;34m)\u001b[0m\u001b[0;34m:\u001b[0m\u001b[0;34m\u001b[0m\u001b[0;34m\u001b[0m\u001b[0m\n\u001b[0;32m--> 249\u001b[0;31m         \u001b[0mcallable\u001b[0m\u001b[0;34m(\u001b[0m\u001b[0;34m)\u001b[0m\u001b[0;34m\u001b[0m\u001b[0;34m\u001b[0m\u001b[0m\n\u001b[0m\u001b[1;32m    250\u001b[0m     \u001b[0;32melse\u001b[0m\u001b[0;34m:\u001b[0m\u001b[0;34m\u001b[0m\u001b[0;34m\u001b[0m\u001b[0m\n\u001b[1;32m    251\u001b[0m         \u001b[0;31m# TODO(torch_deploy): this accesses linecache, which attempts to read the\u001b[0m\u001b[0;34m\u001b[0m\u001b[0;34m\u001b[0m\u001b[0m\n",
            "\u001b[0;32m/usr/local/lib/python3.10/dist-packages/torch/cuda/random.py\u001b[0m in \u001b[0;36mcb\u001b[0;34m()\u001b[0m\n\u001b[1;32m    125\u001b[0m         \u001b[0;32mfor\u001b[0m \u001b[0mi\u001b[0m \u001b[0;32min\u001b[0m \u001b[0mrange\u001b[0m\u001b[0;34m(\u001b[0m\u001b[0mdevice_count\u001b[0m\u001b[0;34m(\u001b[0m\u001b[0;34m)\u001b[0m\u001b[0;34m)\u001b[0m\u001b[0;34m:\u001b[0m\u001b[0;34m\u001b[0m\u001b[0;34m\u001b[0m\u001b[0m\n\u001b[1;32m    126\u001b[0m             \u001b[0mdefault_generator\u001b[0m \u001b[0;34m=\u001b[0m \u001b[0mtorch\u001b[0m\u001b[0;34m.\u001b[0m\u001b[0mcuda\u001b[0m\u001b[0;34m.\u001b[0m\u001b[0mdefault_generators\u001b[0m\u001b[0;34m[\u001b[0m\u001b[0mi\u001b[0m\u001b[0;34m]\u001b[0m\u001b[0;34m\u001b[0m\u001b[0;34m\u001b[0m\u001b[0m\n\u001b[0;32m--> 127\u001b[0;31m             \u001b[0mdefault_generator\u001b[0m\u001b[0;34m.\u001b[0m\u001b[0mmanual_seed\u001b[0m\u001b[0;34m(\u001b[0m\u001b[0mseed\u001b[0m\u001b[0;34m)\u001b[0m\u001b[0;34m\u001b[0m\u001b[0;34m\u001b[0m\u001b[0m\n\u001b[0m\u001b[1;32m    128\u001b[0m \u001b[0;34m\u001b[0m\u001b[0m\n\u001b[1;32m    129\u001b[0m     \u001b[0m_lazy_call\u001b[0m\u001b[0;34m(\u001b[0m\u001b[0mcb\u001b[0m\u001b[0;34m,\u001b[0m \u001b[0mseed_all\u001b[0m\u001b[0;34m=\u001b[0m\u001b[0;32mTrue\u001b[0m\u001b[0;34m)\u001b[0m\u001b[0;34m\u001b[0m\u001b[0;34m\u001b[0m\u001b[0m\n",
            "\u001b[0;31mRuntimeError\u001b[0m: CUDA error: device-side assert triggered\nCUDA kernel errors might be asynchronously reported at some other API call, so the stacktrace below might be incorrect.\nFor debugging consider passing CUDA_LAUNCH_BLOCKING=1\nCompile with `TORCH_USE_CUDA_DSA` to enable device-side assertions.\n"
          ]
        }
      ],
      "source": [
        "# Set a random seed, so you obtain the same output model if you run this cell again.\n",
        "seed = 42\n",
        "torch.manual_seed(seed)\n",
        "torch.cuda.manual_seed(seed)\n",
        "\n",
        "model = EncoderDecoderModel(\n",
        "    source_vocab_size=source_tokenizer.vocab_size,\n",
        "    target_vocab_size=target_tokenizer.vocab_size,\n",
        "    hidden_size=32,\n",
        "    intermediate_size=32 * 4,\n",
        "    num_attention_heads=4,\n",
        "    num_encoder_layers=3,\n",
        "    num_decoder_layers=3,\n",
        "    max_sequence_length=32,\n",
        "    hidden_dropout_prob=0.1,\n",
        "    )\n",
        "\n",
        "print(\"Model architecture:\", model)\n",
        "print(\"Total number of trainable model parameters:\", sum(p.numel() for p in model.parameters() if p.requires_grad))\n",
        "\n",
        "train(model, tokenized_datasets[\"train\"], tokenized_datasets[\"validation\"],\n",
        "      max_epoch=15, model_path=\"model.pt\")"
      ]
    },
    {
      "cell_type": "markdown",
      "metadata": {
        "id": "Xhk9wiHzpyuF"
      },
      "source": [
        "## Evaluate the model\n",
        "\n",
        "We have trained a seq2seq model for the NMT task. Now let's evaluate the model on the test set by generating translations with beam search and comparing them to the gold translations using the BLEU score."
      ]
    },
    {
      "cell_type": "code",
      "execution_count": 19,
      "metadata": {
        "id": "uqEeZlyeuzG2"
      },
      "outputs": [],
      "source": [
        "from tqdm import tqdm\n",
        "from nltk.translate.bleu_score import corpus_bleu\n",
        "\n",
        "def beam_search(model: EncoderDecoderModel,\n",
        "                encoder_input_ids: torch.LongTensor,\n",
        "                beam_width: int = 5,\n",
        "                max_len: int = 32) -> Tuple[torch.LongTensor, float]:\n",
        "    \"\"\"Run beam search on the encoder-decoder model for a single source sequence.\n",
        "\n",
        "    Args:\n",
        "        model: The encoder-decoder model.\n",
        "        encoder_input_ids: The input sequence. Tensor of shape [encoder_sequence_length].\n",
        "        beam_width: Number of generations to expand at each time step.\n",
        "        max_len: Stop generation when reaching this length for the generated sequence.\n",
        "\n",
        "    Returns:\n",
        "        A tuple (generation, score) where generation is the generated target sequence and\n",
        "            a tensor of shape [target_sequence_length] and score is the corresponding\n",
        "            log-probability of this generation.\n",
        "    \"\"\"\n",
        "    model.eval()\n",
        "\n",
        "    encoder_input_ids = encoder_input_ids.unsqueeze(0) # Add the batch dimension\n",
        "    encoder_padding_mask = torch.zeros_like(encoder_input_ids, dtype=torch.bool) # No padding\n",
        "    encoder_outputs = model.forward_encoder(encoder_input_ids, encoder_padding_mask)\n",
        "\n",
        "    generations = [torch.tensor([target_tokenizer.bos_token_id], device=encoder_input_ids.device)]\n",
        "    scores = [0.0]\n",
        "\n",
        "    best_generation = None\n",
        "    best_score = float('-inf')\n",
        "\n",
        "    for _ in range(max_len):\n",
        "        new_generations = []\n",
        "        new_scores = []\n",
        "        for score, generation in zip(scores, generations):\n",
        "            generation = generation.unsqueeze(0) # Add the batch dimension\n",
        "            padding_mask = torch.zeros_like(generation, dtype=torch.bool) # No padding\n",
        "            decoder_output = model.forward_decoder(generation, padding_mask, encoder_outputs, encoder_padding_mask)\n",
        "            last_log_probs = decoder_output[0, -1, :].log_softmax(dim=-1)\n",
        "            top_log_probs, top_indices = last_log_probs.topk(beam_width, dim=-1)\n",
        "\n",
        "            new_generations.append(torch.cat([generation.expand(beam_width, -1), top_indices[:,None]], dim=1))\n",
        "            new_scores.append(score + top_log_probs)\n",
        "\n",
        "        new_generations = torch.cat(new_generations, dim=0)\n",
        "        new_scores = torch.cat(new_scores, dim=0)\n",
        "\n",
        "        ends_with_eos = target_tokenizer.eos_token_id == new_generations[:,-1]\n",
        "\n",
        "        if ends_with_eos.any():\n",
        "            new_completed_generations = new_generations[ends_with_eos]\n",
        "            new_completed_scores = new_scores[ends_with_eos]\n",
        "\n",
        "            if new_completed_scores.max() > best_score:\n",
        "                best_score = new_completed_scores.max()\n",
        "                best_generation = new_completed_generations[new_completed_scores.argmax()]\n",
        "\n",
        "        if best_score >= new_scores.max():\n",
        "            break\n",
        "\n",
        "        scores, indices = torch.topk(new_scores, beam_width, dim=-1)\n",
        "        generations = new_generations[indices]\n",
        "\n",
        "    if best_generation is None:\n",
        "        best_generation = generations[0]\n",
        "        best_score = scores[0]\n",
        "\n",
        "    return best_generation, best_score.cpu().item()\n",
        "\n",
        "\n",
        "def run_generation(model, test_dataset, beam_size=5, max_decoding_time_step=32):\n",
        "    \"\"\"Run beam search decoding on the test set, compute BLEU and return reference and candidate target sentences.\n",
        "    \"\"\"\n",
        "\n",
        "    device = torch.device(\"cuda:0\" if torch.cuda.is_available() else \"cpu\")\n",
        "    print('Use device: %s' % device)\n",
        "\n",
        "    input_sentences = []\n",
        "    reference_sentences = []\n",
        "    candidate_sentences = []\n",
        "\n",
        "    with torch.no_grad():\n",
        "        for example in tqdm(test_dataset):\n",
        "            encoder_input_ids = torch.tensor(example[\"encoder_input_ids\"], device=device)\n",
        "\n",
        "            generation, _ = beam_search(model, encoder_input_ids, beam_size, max_decoding_time_step)\n",
        "\n",
        "            # Decode given source sequence and generated target sequence and avoid special tokens\n",
        "\n",
        "            input_text = \"\".join(source_tokenizer.decode(token).replace(\"▁\", \" \") for token in example[\"encoder_input_ids\"][1:-1])\n",
        "            reference_text = \"\".join(target_tokenizer.decode(token).replace(\"▁\", \" \") for token in example[\"decoder_input_ids\"][1:-1])\n",
        "            candidate_text = \"\".join(target_tokenizer.decode(token).replace(\"▁\", \" \") for token in generation[1:-1].cpu())\n",
        "\n",
        "            reference_sentences.append(reference_text)\n",
        "            candidate_sentences.append(candidate_text)\n",
        "            input_sentences.append(input_text)\n",
        "\n",
        "\n",
        "    bleu_score = corpus_bleu([[ref] for ref in reference_sentences],\n",
        "                             [candidate for candidate in candidate_sentences])\n",
        "\n",
        "    return bleu_score, input_sentences, reference_sentences, candidate_sentences"
      ]
    },
    {
      "cell_type": "code",
      "execution_count": 20,
      "metadata": {
        "id": "uRjz11ntwgkK",
        "colab": {
          "base_uri": "https://localhost:8080/",
          "height": 211
        },
        "collapsed": true,
        "outputId": "acd3b3f4-b184-4df8-e0c1-ccf9885223bc"
      },
      "outputs": [
        {
          "output_type": "error",
          "ename": "NameError",
          "evalue": "name 'model' is not defined",
          "traceback": [
            "\u001b[0;31m---------------------------------------------------------------------------\u001b[0m",
            "\u001b[0;31mNameError\u001b[0m                                 Traceback (most recent call last)",
            "\u001b[0;32m<ipython-input-20-85e6e566cf06>\u001b[0m in \u001b[0;36m<cell line: 2>\u001b[0;34m()\u001b[0m\n\u001b[1;32m      1\u001b[0m \u001b[0;31m# Restore the best validation checkpoint\u001b[0m\u001b[0;34m\u001b[0m\u001b[0;34m\u001b[0m\u001b[0m\n\u001b[0;32m----> 2\u001b[0;31m \u001b[0mmodel\u001b[0m\u001b[0;34m.\u001b[0m\u001b[0mload_state_dict\u001b[0m\u001b[0;34m(\u001b[0m\u001b[0mtorch\u001b[0m\u001b[0;34m.\u001b[0m\u001b[0mload\u001b[0m\u001b[0;34m(\u001b[0m\u001b[0;34m\"model.pt\"\u001b[0m\u001b[0;34m)\u001b[0m\u001b[0;34m)\u001b[0m\u001b[0;34m\u001b[0m\u001b[0;34m\u001b[0m\u001b[0m\n\u001b[0m\u001b[1;32m      3\u001b[0m \u001b[0;34m\u001b[0m\u001b[0m\n\u001b[1;32m      4\u001b[0m \u001b[0mbleu_score\u001b[0m\u001b[0;34m,\u001b[0m \u001b[0minputs\u001b[0m\u001b[0;34m,\u001b[0m \u001b[0mreferences\u001b[0m\u001b[0;34m,\u001b[0m \u001b[0mcandidates\u001b[0m \u001b[0;34m=\u001b[0m \u001b[0mrun_generation\u001b[0m\u001b[0;34m(\u001b[0m\u001b[0mmodel\u001b[0m\u001b[0;34m,\u001b[0m \u001b[0mtokenized_datasets\u001b[0m\u001b[0;34m[\u001b[0m\u001b[0;34m\"test\"\u001b[0m\u001b[0;34m]\u001b[0m\u001b[0;34m)\u001b[0m\u001b[0;34m\u001b[0m\u001b[0;34m\u001b[0m\u001b[0m\n\u001b[1;32m      5\u001b[0m \u001b[0mprint\u001b[0m\u001b[0;34m(\u001b[0m\u001b[0;34m'\\n\\nCorpus BLEU: {}'\u001b[0m\u001b[0;34m.\u001b[0m\u001b[0mformat\u001b[0m\u001b[0;34m(\u001b[0m\u001b[0mbleu_score\u001b[0m \u001b[0;34m*\u001b[0m \u001b[0;36m100\u001b[0m\u001b[0;34m)\u001b[0m\u001b[0;34m)\u001b[0m\u001b[0;34m\u001b[0m\u001b[0;34m\u001b[0m\u001b[0m\n",
            "\u001b[0;31mNameError\u001b[0m: name 'model' is not defined"
          ]
        }
      ],
      "source": [
        "# Restore the best validation checkpoint\n",
        "model.load_state_dict(torch.load(\"model.pt\"))\n",
        "\n",
        "bleu_score, inputs, references, candidates = run_generation(model, tokenized_datasets[\"test\"])\n",
        "print('\\n\\nCorpus BLEU: {}'.format(bleu_score * 100))"
      ]
    },
    {
      "cell_type": "markdown",
      "metadata": {
        "id": "FOLmb9eh6kua"
      },
      "source": [
        "Let's look at some examples. What do you think of the quality of the translations?"
      ]
    },
    {
      "cell_type": "code",
      "execution_count": null,
      "metadata": {
        "id": "I5e1cDYe6t0B"
      },
      "outputs": [],
      "source": [
        "# Feel free to change the range to look at more samples!\n",
        "for k in range(10, 20):\n",
        "  print(f\"===== Sample {k} =====\")\n",
        "  print(f\"Input: {inputs[k]}\")\n",
        "  print(f\"Gold: {references[k]}\")\n",
        "  print(f\"Pred: {candidates[k]}\")"
      ]
    },
    {
      "cell_type": "markdown",
      "metadata": {
        "id": "v648UANH1iIO"
      },
      "source": []
    },
    {
      "cell_type": "code",
      "source": [],
      "metadata": {
        "id": "2LvPHiteAvaN"
      },
      "execution_count": null,
      "outputs": []
    }
  ],
  "metadata": {
    "colab": {
      "provenance": [],
      "gpuType": "T4",
      "include_colab_link": true
    },
    "kernelspec": {
      "display_name": "Python 3",
      "name": "python3"
    },
    "language_info": {
      "codemirror_mode": {
        "name": "ipython",
        "version": 3
      },
      "file_extension": ".py",
      "mimetype": "text/x-python",
      "name": "python",
      "nbconvert_exporter": "python",
      "pygments_lexer": "ipython3",
      "version": "3.9.13"
    },
    "accelerator": "GPU",
    "widgets": {
      "application/vnd.jupyter.widget-state+json": {
        "c04eee465c624b3a9429306306cde5ab": {
          "model_module": "@jupyter-widgets/controls",
          "model_name": "HBoxModel",
          "model_module_version": "1.5.0",
          "state": {
            "_dom_classes": [],
            "_model_module": "@jupyter-widgets/controls",
            "_model_module_version": "1.5.0",
            "_model_name": "HBoxModel",
            "_view_count": null,
            "_view_module": "@jupyter-widgets/controls",
            "_view_module_version": "1.5.0",
            "_view_name": "HBoxView",
            "box_style": "",
            "children": [
              "IPY_MODEL_aa7e5cc936a94c4c910c3c123e5a50fe",
              "IPY_MODEL_a26496b1d3294956bb43af92254f1c0e",
              "IPY_MODEL_a2f7c774705e4097baf2fa7373f1acdd"
            ],
            "layout": "IPY_MODEL_5cc881157e5a4b20b63a5a236cbde9b9"
          }
        },
        "aa7e5cc936a94c4c910c3c123e5a50fe": {
          "model_module": "@jupyter-widgets/controls",
          "model_name": "HTMLModel",
          "model_module_version": "1.5.0",
          "state": {
            "_dom_classes": [],
            "_model_module": "@jupyter-widgets/controls",
            "_model_module_version": "1.5.0",
            "_model_name": "HTMLModel",
            "_view_count": null,
            "_view_module": "@jupyter-widgets/controls",
            "_view_module_version": "1.5.0",
            "_view_name": "HTMLView",
            "description": "",
            "description_tooltip": null,
            "layout": "IPY_MODEL_972090b1400e4515a590bd9aa8e168c5",
            "placeholder": "​",
            "style": "IPY_MODEL_17c4919a6524436dbbf8b0549a70dd45",
            "value": "Map:  99%"
          }
        },
        "a26496b1d3294956bb43af92254f1c0e": {
          "model_module": "@jupyter-widgets/controls",
          "model_name": "FloatProgressModel",
          "model_module_version": "1.5.0",
          "state": {
            "_dom_classes": [],
            "_model_module": "@jupyter-widgets/controls",
            "_model_module_version": "1.5.0",
            "_model_name": "FloatProgressModel",
            "_view_count": null,
            "_view_module": "@jupyter-widgets/controls",
            "_view_module_version": "1.5.0",
            "_view_name": "ProgressView",
            "bar_style": "",
            "description": "",
            "description_tooltip": null,
            "layout": "IPY_MODEL_cba1e23f54a14edfb5844246313d3fbe",
            "max": 8701,
            "min": 0,
            "orientation": "horizontal",
            "style": "IPY_MODEL_c451de97a891470f874a27895e613d4b",
            "value": 8701
          }
        },
        "a2f7c774705e4097baf2fa7373f1acdd": {
          "model_module": "@jupyter-widgets/controls",
          "model_name": "HTMLModel",
          "model_module_version": "1.5.0",
          "state": {
            "_dom_classes": [],
            "_model_module": "@jupyter-widgets/controls",
            "_model_module_version": "1.5.0",
            "_model_name": "HTMLModel",
            "_view_count": null,
            "_view_module": "@jupyter-widgets/controls",
            "_view_module_version": "1.5.0",
            "_view_name": "HTMLView",
            "description": "",
            "description_tooltip": null,
            "layout": "IPY_MODEL_d4599f24ad374bb7a75738753bfeb3e1",
            "placeholder": "​",
            "style": "IPY_MODEL_cf3b664a53144b9fb932b5136c5b61e6",
            "value": " 8600/8701 [00:06&lt;00:00, 2799.85 examples/s]"
          }
        },
        "5cc881157e5a4b20b63a5a236cbde9b9": {
          "model_module": "@jupyter-widgets/base",
          "model_name": "LayoutModel",
          "model_module_version": "1.2.0",
          "state": {
            "_model_module": "@jupyter-widgets/base",
            "_model_module_version": "1.2.0",
            "_model_name": "LayoutModel",
            "_view_count": null,
            "_view_module": "@jupyter-widgets/base",
            "_view_module_version": "1.2.0",
            "_view_name": "LayoutView",
            "align_content": null,
            "align_items": null,
            "align_self": null,
            "border": null,
            "bottom": null,
            "display": null,
            "flex": null,
            "flex_flow": null,
            "grid_area": null,
            "grid_auto_columns": null,
            "grid_auto_flow": null,
            "grid_auto_rows": null,
            "grid_column": null,
            "grid_gap": null,
            "grid_row": null,
            "grid_template_areas": null,
            "grid_template_columns": null,
            "grid_template_rows": null,
            "height": null,
            "justify_content": null,
            "justify_items": null,
            "left": null,
            "margin": null,
            "max_height": null,
            "max_width": null,
            "min_height": null,
            "min_width": null,
            "object_fit": null,
            "object_position": null,
            "order": null,
            "overflow": null,
            "overflow_x": null,
            "overflow_y": null,
            "padding": null,
            "right": null,
            "top": null,
            "visibility": "hidden",
            "width": null
          }
        },
        "972090b1400e4515a590bd9aa8e168c5": {
          "model_module": "@jupyter-widgets/base",
          "model_name": "LayoutModel",
          "model_module_version": "1.2.0",
          "state": {
            "_model_module": "@jupyter-widgets/base",
            "_model_module_version": "1.2.0",
            "_model_name": "LayoutModel",
            "_view_count": null,
            "_view_module": "@jupyter-widgets/base",
            "_view_module_version": "1.2.0",
            "_view_name": "LayoutView",
            "align_content": null,
            "align_items": null,
            "align_self": null,
            "border": null,
            "bottom": null,
            "display": null,
            "flex": null,
            "flex_flow": null,
            "grid_area": null,
            "grid_auto_columns": null,
            "grid_auto_flow": null,
            "grid_auto_rows": null,
            "grid_column": null,
            "grid_gap": null,
            "grid_row": null,
            "grid_template_areas": null,
            "grid_template_columns": null,
            "grid_template_rows": null,
            "height": null,
            "justify_content": null,
            "justify_items": null,
            "left": null,
            "margin": null,
            "max_height": null,
            "max_width": null,
            "min_height": null,
            "min_width": null,
            "object_fit": null,
            "object_position": null,
            "order": null,
            "overflow": null,
            "overflow_x": null,
            "overflow_y": null,
            "padding": null,
            "right": null,
            "top": null,
            "visibility": null,
            "width": null
          }
        },
        "17c4919a6524436dbbf8b0549a70dd45": {
          "model_module": "@jupyter-widgets/controls",
          "model_name": "DescriptionStyleModel",
          "model_module_version": "1.5.0",
          "state": {
            "_model_module": "@jupyter-widgets/controls",
            "_model_module_version": "1.5.0",
            "_model_name": "DescriptionStyleModel",
            "_view_count": null,
            "_view_module": "@jupyter-widgets/base",
            "_view_module_version": "1.2.0",
            "_view_name": "StyleView",
            "description_width": ""
          }
        },
        "cba1e23f54a14edfb5844246313d3fbe": {
          "model_module": "@jupyter-widgets/base",
          "model_name": "LayoutModel",
          "model_module_version": "1.2.0",
          "state": {
            "_model_module": "@jupyter-widgets/base",
            "_model_module_version": "1.2.0",
            "_model_name": "LayoutModel",
            "_view_count": null,
            "_view_module": "@jupyter-widgets/base",
            "_view_module_version": "1.2.0",
            "_view_name": "LayoutView",
            "align_content": null,
            "align_items": null,
            "align_self": null,
            "border": null,
            "bottom": null,
            "display": null,
            "flex": null,
            "flex_flow": null,
            "grid_area": null,
            "grid_auto_columns": null,
            "grid_auto_flow": null,
            "grid_auto_rows": null,
            "grid_column": null,
            "grid_gap": null,
            "grid_row": null,
            "grid_template_areas": null,
            "grid_template_columns": null,
            "grid_template_rows": null,
            "height": null,
            "justify_content": null,
            "justify_items": null,
            "left": null,
            "margin": null,
            "max_height": null,
            "max_width": null,
            "min_height": null,
            "min_width": null,
            "object_fit": null,
            "object_position": null,
            "order": null,
            "overflow": null,
            "overflow_x": null,
            "overflow_y": null,
            "padding": null,
            "right": null,
            "top": null,
            "visibility": null,
            "width": null
          }
        },
        "c451de97a891470f874a27895e613d4b": {
          "model_module": "@jupyter-widgets/controls",
          "model_name": "ProgressStyleModel",
          "model_module_version": "1.5.0",
          "state": {
            "_model_module": "@jupyter-widgets/controls",
            "_model_module_version": "1.5.0",
            "_model_name": "ProgressStyleModel",
            "_view_count": null,
            "_view_module": "@jupyter-widgets/base",
            "_view_module_version": "1.2.0",
            "_view_name": "StyleView",
            "bar_color": null,
            "description_width": ""
          }
        },
        "d4599f24ad374bb7a75738753bfeb3e1": {
          "model_module": "@jupyter-widgets/base",
          "model_name": "LayoutModel",
          "model_module_version": "1.2.0",
          "state": {
            "_model_module": "@jupyter-widgets/base",
            "_model_module_version": "1.2.0",
            "_model_name": "LayoutModel",
            "_view_count": null,
            "_view_module": "@jupyter-widgets/base",
            "_view_module_version": "1.2.0",
            "_view_name": "LayoutView",
            "align_content": null,
            "align_items": null,
            "align_self": null,
            "border": null,
            "bottom": null,
            "display": null,
            "flex": null,
            "flex_flow": null,
            "grid_area": null,
            "grid_auto_columns": null,
            "grid_auto_flow": null,
            "grid_auto_rows": null,
            "grid_column": null,
            "grid_gap": null,
            "grid_row": null,
            "grid_template_areas": null,
            "grid_template_columns": null,
            "grid_template_rows": null,
            "height": null,
            "justify_content": null,
            "justify_items": null,
            "left": null,
            "margin": null,
            "max_height": null,
            "max_width": null,
            "min_height": null,
            "min_width": null,
            "object_fit": null,
            "object_position": null,
            "order": null,
            "overflow": null,
            "overflow_x": null,
            "overflow_y": null,
            "padding": null,
            "right": null,
            "top": null,
            "visibility": null,
            "width": null
          }
        },
        "cf3b664a53144b9fb932b5136c5b61e6": {
          "model_module": "@jupyter-widgets/controls",
          "model_name": "DescriptionStyleModel",
          "model_module_version": "1.5.0",
          "state": {
            "_model_module": "@jupyter-widgets/controls",
            "_model_module_version": "1.5.0",
            "_model_name": "DescriptionStyleModel",
            "_view_count": null,
            "_view_module": "@jupyter-widgets/base",
            "_view_module_version": "1.2.0",
            "_view_name": "StyleView",
            "description_width": ""
          }
        },
        "a06226d32f3e4c39bbb6b7ba19fa2335": {
          "model_module": "@jupyter-widgets/controls",
          "model_name": "HBoxModel",
          "model_module_version": "1.5.0",
          "state": {
            "_dom_classes": [],
            "_model_module": "@jupyter-widgets/controls",
            "_model_module_version": "1.5.0",
            "_model_name": "HBoxModel",
            "_view_count": null,
            "_view_module": "@jupyter-widgets/controls",
            "_view_module_version": "1.5.0",
            "_view_name": "HBoxView",
            "box_style": "",
            "children": [
              "IPY_MODEL_bcb2932fde7948bb8623dc891fa9e93f",
              "IPY_MODEL_c04ff480517840feaa583ac7b5798cb0",
              "IPY_MODEL_190dc2dc93154a018974cf0168088aed"
            ],
            "layout": "IPY_MODEL_20557466636f42ec8f7d52f4fade4413"
          }
        },
        "bcb2932fde7948bb8623dc891fa9e93f": {
          "model_module": "@jupyter-widgets/controls",
          "model_name": "HTMLModel",
          "model_module_version": "1.5.0",
          "state": {
            "_dom_classes": [],
            "_model_module": "@jupyter-widgets/controls",
            "_model_module_version": "1.5.0",
            "_model_name": "HTMLModel",
            "_view_count": null,
            "_view_module": "@jupyter-widgets/controls",
            "_view_module_version": "1.5.0",
            "_view_name": "HTMLView",
            "description": "",
            "description_tooltip": null,
            "layout": "IPY_MODEL_275c78fa2a5a47e19ece43364e633fa6",
            "placeholder": "​",
            "style": "IPY_MODEL_f8e00bbcc4734a9997fd42b6f6df050e",
            "value": "Map:  73%"
          }
        },
        "c04ff480517840feaa583ac7b5798cb0": {
          "model_module": "@jupyter-widgets/controls",
          "model_name": "FloatProgressModel",
          "model_module_version": "1.5.0",
          "state": {
            "_dom_classes": [],
            "_model_module": "@jupyter-widgets/controls",
            "_model_module_version": "1.5.0",
            "_model_name": "FloatProgressModel",
            "_view_count": null,
            "_view_module": "@jupyter-widgets/controls",
            "_view_module_version": "1.5.0",
            "_view_name": "ProgressView",
            "bar_style": "",
            "description": "",
            "description_tooltip": null,
            "layout": "IPY_MODEL_0f6443d425224b4780d4b1d116e5ed94",
            "max": 485,
            "min": 0,
            "orientation": "horizontal",
            "style": "IPY_MODEL_2aef8107dd9e4aec9b1a32e14778c9d2",
            "value": 485
          }
        },
        "190dc2dc93154a018974cf0168088aed": {
          "model_module": "@jupyter-widgets/controls",
          "model_name": "HTMLModel",
          "model_module_version": "1.5.0",
          "state": {
            "_dom_classes": [],
            "_model_module": "@jupyter-widgets/controls",
            "_model_module_version": "1.5.0",
            "_model_name": "HTMLModel",
            "_view_count": null,
            "_view_module": "@jupyter-widgets/controls",
            "_view_module_version": "1.5.0",
            "_view_name": "HTMLView",
            "description": "",
            "description_tooltip": null,
            "layout": "IPY_MODEL_a5c48957a0bf42399b49be0ee5d8c415",
            "placeholder": "​",
            "style": "IPY_MODEL_4b644359885140a0bd7589dd100a83c4",
            "value": " 354/485 [00:00&lt;00:00, 2843.92 examples/s]"
          }
        },
        "20557466636f42ec8f7d52f4fade4413": {
          "model_module": "@jupyter-widgets/base",
          "model_name": "LayoutModel",
          "model_module_version": "1.2.0",
          "state": {
            "_model_module": "@jupyter-widgets/base",
            "_model_module_version": "1.2.0",
            "_model_name": "LayoutModel",
            "_view_count": null,
            "_view_module": "@jupyter-widgets/base",
            "_view_module_version": "1.2.0",
            "_view_name": "LayoutView",
            "align_content": null,
            "align_items": null,
            "align_self": null,
            "border": null,
            "bottom": null,
            "display": null,
            "flex": null,
            "flex_flow": null,
            "grid_area": null,
            "grid_auto_columns": null,
            "grid_auto_flow": null,
            "grid_auto_rows": null,
            "grid_column": null,
            "grid_gap": null,
            "grid_row": null,
            "grid_template_areas": null,
            "grid_template_columns": null,
            "grid_template_rows": null,
            "height": null,
            "justify_content": null,
            "justify_items": null,
            "left": null,
            "margin": null,
            "max_height": null,
            "max_width": null,
            "min_height": null,
            "min_width": null,
            "object_fit": null,
            "object_position": null,
            "order": null,
            "overflow": null,
            "overflow_x": null,
            "overflow_y": null,
            "padding": null,
            "right": null,
            "top": null,
            "visibility": "hidden",
            "width": null
          }
        },
        "275c78fa2a5a47e19ece43364e633fa6": {
          "model_module": "@jupyter-widgets/base",
          "model_name": "LayoutModel",
          "model_module_version": "1.2.0",
          "state": {
            "_model_module": "@jupyter-widgets/base",
            "_model_module_version": "1.2.0",
            "_model_name": "LayoutModel",
            "_view_count": null,
            "_view_module": "@jupyter-widgets/base",
            "_view_module_version": "1.2.0",
            "_view_name": "LayoutView",
            "align_content": null,
            "align_items": null,
            "align_self": null,
            "border": null,
            "bottom": null,
            "display": null,
            "flex": null,
            "flex_flow": null,
            "grid_area": null,
            "grid_auto_columns": null,
            "grid_auto_flow": null,
            "grid_auto_rows": null,
            "grid_column": null,
            "grid_gap": null,
            "grid_row": null,
            "grid_template_areas": null,
            "grid_template_columns": null,
            "grid_template_rows": null,
            "height": null,
            "justify_content": null,
            "justify_items": null,
            "left": null,
            "margin": null,
            "max_height": null,
            "max_width": null,
            "min_height": null,
            "min_width": null,
            "object_fit": null,
            "object_position": null,
            "order": null,
            "overflow": null,
            "overflow_x": null,
            "overflow_y": null,
            "padding": null,
            "right": null,
            "top": null,
            "visibility": null,
            "width": null
          }
        },
        "f8e00bbcc4734a9997fd42b6f6df050e": {
          "model_module": "@jupyter-widgets/controls",
          "model_name": "DescriptionStyleModel",
          "model_module_version": "1.5.0",
          "state": {
            "_model_module": "@jupyter-widgets/controls",
            "_model_module_version": "1.5.0",
            "_model_name": "DescriptionStyleModel",
            "_view_count": null,
            "_view_module": "@jupyter-widgets/base",
            "_view_module_version": "1.2.0",
            "_view_name": "StyleView",
            "description_width": ""
          }
        },
        "0f6443d425224b4780d4b1d116e5ed94": {
          "model_module": "@jupyter-widgets/base",
          "model_name": "LayoutModel",
          "model_module_version": "1.2.0",
          "state": {
            "_model_module": "@jupyter-widgets/base",
            "_model_module_version": "1.2.0",
            "_model_name": "LayoutModel",
            "_view_count": null,
            "_view_module": "@jupyter-widgets/base",
            "_view_module_version": "1.2.0",
            "_view_name": "LayoutView",
            "align_content": null,
            "align_items": null,
            "align_self": null,
            "border": null,
            "bottom": null,
            "display": null,
            "flex": null,
            "flex_flow": null,
            "grid_area": null,
            "grid_auto_columns": null,
            "grid_auto_flow": null,
            "grid_auto_rows": null,
            "grid_column": null,
            "grid_gap": null,
            "grid_row": null,
            "grid_template_areas": null,
            "grid_template_columns": null,
            "grid_template_rows": null,
            "height": null,
            "justify_content": null,
            "justify_items": null,
            "left": null,
            "margin": null,
            "max_height": null,
            "max_width": null,
            "min_height": null,
            "min_width": null,
            "object_fit": null,
            "object_position": null,
            "order": null,
            "overflow": null,
            "overflow_x": null,
            "overflow_y": null,
            "padding": null,
            "right": null,
            "top": null,
            "visibility": null,
            "width": null
          }
        },
        "2aef8107dd9e4aec9b1a32e14778c9d2": {
          "model_module": "@jupyter-widgets/controls",
          "model_name": "ProgressStyleModel",
          "model_module_version": "1.5.0",
          "state": {
            "_model_module": "@jupyter-widgets/controls",
            "_model_module_version": "1.5.0",
            "_model_name": "ProgressStyleModel",
            "_view_count": null,
            "_view_module": "@jupyter-widgets/base",
            "_view_module_version": "1.2.0",
            "_view_name": "StyleView",
            "bar_color": null,
            "description_width": ""
          }
        },
        "a5c48957a0bf42399b49be0ee5d8c415": {
          "model_module": "@jupyter-widgets/base",
          "model_name": "LayoutModel",
          "model_module_version": "1.2.0",
          "state": {
            "_model_module": "@jupyter-widgets/base",
            "_model_module_version": "1.2.0",
            "_model_name": "LayoutModel",
            "_view_count": null,
            "_view_module": "@jupyter-widgets/base",
            "_view_module_version": "1.2.0",
            "_view_name": "LayoutView",
            "align_content": null,
            "align_items": null,
            "align_self": null,
            "border": null,
            "bottom": null,
            "display": null,
            "flex": null,
            "flex_flow": null,
            "grid_area": null,
            "grid_auto_columns": null,
            "grid_auto_flow": null,
            "grid_auto_rows": null,
            "grid_column": null,
            "grid_gap": null,
            "grid_row": null,
            "grid_template_areas": null,
            "grid_template_columns": null,
            "grid_template_rows": null,
            "height": null,
            "justify_content": null,
            "justify_items": null,
            "left": null,
            "margin": null,
            "max_height": null,
            "max_width": null,
            "min_height": null,
            "min_width": null,
            "object_fit": null,
            "object_position": null,
            "order": null,
            "overflow": null,
            "overflow_x": null,
            "overflow_y": null,
            "padding": null,
            "right": null,
            "top": null,
            "visibility": null,
            "width": null
          }
        },
        "4b644359885140a0bd7589dd100a83c4": {
          "model_module": "@jupyter-widgets/controls",
          "model_name": "DescriptionStyleModel",
          "model_module_version": "1.5.0",
          "state": {
            "_model_module": "@jupyter-widgets/controls",
            "_model_module_version": "1.5.0",
            "_model_name": "DescriptionStyleModel",
            "_view_count": null,
            "_view_module": "@jupyter-widgets/base",
            "_view_module_version": "1.2.0",
            "_view_name": "StyleView",
            "description_width": ""
          }
        },
        "fde76df4c6fd4e2b8510eb4e8c365e91": {
          "model_module": "@jupyter-widgets/controls",
          "model_name": "HBoxModel",
          "model_module_version": "1.5.0",
          "state": {
            "_dom_classes": [],
            "_model_module": "@jupyter-widgets/controls",
            "_model_module_version": "1.5.0",
            "_model_name": "HBoxModel",
            "_view_count": null,
            "_view_module": "@jupyter-widgets/controls",
            "_view_module_version": "1.5.0",
            "_view_name": "HBoxView",
            "box_style": "",
            "children": [
              "IPY_MODEL_71f8656ad8fb4f6cbdf2b525f1c10e01",
              "IPY_MODEL_e722e426da884510aba8ae5bb12375ec",
              "IPY_MODEL_5ff0450a741b4ac4a9915ab710e27ba2"
            ],
            "layout": "IPY_MODEL_a6a2e00a3b464a61823285fb890fa4b6"
          }
        },
        "71f8656ad8fb4f6cbdf2b525f1c10e01": {
          "model_module": "@jupyter-widgets/controls",
          "model_name": "HTMLModel",
          "model_module_version": "1.5.0",
          "state": {
            "_dom_classes": [],
            "_model_module": "@jupyter-widgets/controls",
            "_model_module_version": "1.5.0",
            "_model_name": "HTMLModel",
            "_view_count": null,
            "_view_module": "@jupyter-widgets/controls",
            "_view_module_version": "1.5.0",
            "_view_name": "HTMLView",
            "description": "",
            "description_tooltip": null,
            "layout": "IPY_MODEL_5985b3042438422bb2cf5764af08f36a",
            "placeholder": "​",
            "style": "IPY_MODEL_6bb6807854634c25a8cb6a28357ef17c",
            "value": "Map: 100%"
          }
        },
        "e722e426da884510aba8ae5bb12375ec": {
          "model_module": "@jupyter-widgets/controls",
          "model_name": "FloatProgressModel",
          "model_module_version": "1.5.0",
          "state": {
            "_dom_classes": [],
            "_model_module": "@jupyter-widgets/controls",
            "_model_module_version": "1.5.0",
            "_model_name": "FloatProgressModel",
            "_view_count": null,
            "_view_module": "@jupyter-widgets/controls",
            "_view_module_version": "1.5.0",
            "_view_name": "ProgressView",
            "bar_style": "",
            "description": "",
            "description_tooltip": null,
            "layout": "IPY_MODEL_3ee7500396a84762b83e916b59f9f8ae",
            "max": 486,
            "min": 0,
            "orientation": "horizontal",
            "style": "IPY_MODEL_6e5246c5cdca463fb20a64dd7682b2d1",
            "value": 486
          }
        },
        "5ff0450a741b4ac4a9915ab710e27ba2": {
          "model_module": "@jupyter-widgets/controls",
          "model_name": "HTMLModel",
          "model_module_version": "1.5.0",
          "state": {
            "_dom_classes": [],
            "_model_module": "@jupyter-widgets/controls",
            "_model_module_version": "1.5.0",
            "_model_name": "HTMLModel",
            "_view_count": null,
            "_view_module": "@jupyter-widgets/controls",
            "_view_module_version": "1.5.0",
            "_view_name": "HTMLView",
            "description": "",
            "description_tooltip": null,
            "layout": "IPY_MODEL_a4c6717be82842bc95c3be37d1bcb684",
            "placeholder": "​",
            "style": "IPY_MODEL_95ddf1c0615144949a8190e75446ffef",
            "value": " 485/486 [00:00&lt;00:00, 2175.45 examples/s]"
          }
        },
        "a6a2e00a3b464a61823285fb890fa4b6": {
          "model_module": "@jupyter-widgets/base",
          "model_name": "LayoutModel",
          "model_module_version": "1.2.0",
          "state": {
            "_model_module": "@jupyter-widgets/base",
            "_model_module_version": "1.2.0",
            "_model_name": "LayoutModel",
            "_view_count": null,
            "_view_module": "@jupyter-widgets/base",
            "_view_module_version": "1.2.0",
            "_view_name": "LayoutView",
            "align_content": null,
            "align_items": null,
            "align_self": null,
            "border": null,
            "bottom": null,
            "display": null,
            "flex": null,
            "flex_flow": null,
            "grid_area": null,
            "grid_auto_columns": null,
            "grid_auto_flow": null,
            "grid_auto_rows": null,
            "grid_column": null,
            "grid_gap": null,
            "grid_row": null,
            "grid_template_areas": null,
            "grid_template_columns": null,
            "grid_template_rows": null,
            "height": null,
            "justify_content": null,
            "justify_items": null,
            "left": null,
            "margin": null,
            "max_height": null,
            "max_width": null,
            "min_height": null,
            "min_width": null,
            "object_fit": null,
            "object_position": null,
            "order": null,
            "overflow": null,
            "overflow_x": null,
            "overflow_y": null,
            "padding": null,
            "right": null,
            "top": null,
            "visibility": "hidden",
            "width": null
          }
        },
        "5985b3042438422bb2cf5764af08f36a": {
          "model_module": "@jupyter-widgets/base",
          "model_name": "LayoutModel",
          "model_module_version": "1.2.0",
          "state": {
            "_model_module": "@jupyter-widgets/base",
            "_model_module_version": "1.2.0",
            "_model_name": "LayoutModel",
            "_view_count": null,
            "_view_module": "@jupyter-widgets/base",
            "_view_module_version": "1.2.0",
            "_view_name": "LayoutView",
            "align_content": null,
            "align_items": null,
            "align_self": null,
            "border": null,
            "bottom": null,
            "display": null,
            "flex": null,
            "flex_flow": null,
            "grid_area": null,
            "grid_auto_columns": null,
            "grid_auto_flow": null,
            "grid_auto_rows": null,
            "grid_column": null,
            "grid_gap": null,
            "grid_row": null,
            "grid_template_areas": null,
            "grid_template_columns": null,
            "grid_template_rows": null,
            "height": null,
            "justify_content": null,
            "justify_items": null,
            "left": null,
            "margin": null,
            "max_height": null,
            "max_width": null,
            "min_height": null,
            "min_width": null,
            "object_fit": null,
            "object_position": null,
            "order": null,
            "overflow": null,
            "overflow_x": null,
            "overflow_y": null,
            "padding": null,
            "right": null,
            "top": null,
            "visibility": null,
            "width": null
          }
        },
        "6bb6807854634c25a8cb6a28357ef17c": {
          "model_module": "@jupyter-widgets/controls",
          "model_name": "DescriptionStyleModel",
          "model_module_version": "1.5.0",
          "state": {
            "_model_module": "@jupyter-widgets/controls",
            "_model_module_version": "1.5.0",
            "_model_name": "DescriptionStyleModel",
            "_view_count": null,
            "_view_module": "@jupyter-widgets/base",
            "_view_module_version": "1.2.0",
            "_view_name": "StyleView",
            "description_width": ""
          }
        },
        "3ee7500396a84762b83e916b59f9f8ae": {
          "model_module": "@jupyter-widgets/base",
          "model_name": "LayoutModel",
          "model_module_version": "1.2.0",
          "state": {
            "_model_module": "@jupyter-widgets/base",
            "_model_module_version": "1.2.0",
            "_model_name": "LayoutModel",
            "_view_count": null,
            "_view_module": "@jupyter-widgets/base",
            "_view_module_version": "1.2.0",
            "_view_name": "LayoutView",
            "align_content": null,
            "align_items": null,
            "align_self": null,
            "border": null,
            "bottom": null,
            "display": null,
            "flex": null,
            "flex_flow": null,
            "grid_area": null,
            "grid_auto_columns": null,
            "grid_auto_flow": null,
            "grid_auto_rows": null,
            "grid_column": null,
            "grid_gap": null,
            "grid_row": null,
            "grid_template_areas": null,
            "grid_template_columns": null,
            "grid_template_rows": null,
            "height": null,
            "justify_content": null,
            "justify_items": null,
            "left": null,
            "margin": null,
            "max_height": null,
            "max_width": null,
            "min_height": null,
            "min_width": null,
            "object_fit": null,
            "object_position": null,
            "order": null,
            "overflow": null,
            "overflow_x": null,
            "overflow_y": null,
            "padding": null,
            "right": null,
            "top": null,
            "visibility": null,
            "width": null
          }
        },
        "6e5246c5cdca463fb20a64dd7682b2d1": {
          "model_module": "@jupyter-widgets/controls",
          "model_name": "ProgressStyleModel",
          "model_module_version": "1.5.0",
          "state": {
            "_model_module": "@jupyter-widgets/controls",
            "_model_module_version": "1.5.0",
            "_model_name": "ProgressStyleModel",
            "_view_count": null,
            "_view_module": "@jupyter-widgets/base",
            "_view_module_version": "1.2.0",
            "_view_name": "StyleView",
            "bar_color": null,
            "description_width": ""
          }
        },
        "a4c6717be82842bc95c3be37d1bcb684": {
          "model_module": "@jupyter-widgets/base",
          "model_name": "LayoutModel",
          "model_module_version": "1.2.0",
          "state": {
            "_model_module": "@jupyter-widgets/base",
            "_model_module_version": "1.2.0",
            "_model_name": "LayoutModel",
            "_view_count": null,
            "_view_module": "@jupyter-widgets/base",
            "_view_module_version": "1.2.0",
            "_view_name": "LayoutView",
            "align_content": null,
            "align_items": null,
            "align_self": null,
            "border": null,
            "bottom": null,
            "display": null,
            "flex": null,
            "flex_flow": null,
            "grid_area": null,
            "grid_auto_columns": null,
            "grid_auto_flow": null,
            "grid_auto_rows": null,
            "grid_column": null,
            "grid_gap": null,
            "grid_row": null,
            "grid_template_areas": null,
            "grid_template_columns": null,
            "grid_template_rows": null,
            "height": null,
            "justify_content": null,
            "justify_items": null,
            "left": null,
            "margin": null,
            "max_height": null,
            "max_width": null,
            "min_height": null,
            "min_width": null,
            "object_fit": null,
            "object_position": null,
            "order": null,
            "overflow": null,
            "overflow_x": null,
            "overflow_y": null,
            "padding": null,
            "right": null,
            "top": null,
            "visibility": null,
            "width": null
          }
        },
        "95ddf1c0615144949a8190e75446ffef": {
          "model_module": "@jupyter-widgets/controls",
          "model_name": "DescriptionStyleModel",
          "model_module_version": "1.5.0",
          "state": {
            "_model_module": "@jupyter-widgets/controls",
            "_model_module_version": "1.5.0",
            "_model_name": "DescriptionStyleModel",
            "_view_count": null,
            "_view_module": "@jupyter-widgets/base",
            "_view_module_version": "1.2.0",
            "_view_name": "StyleView",
            "description_width": ""
          }
        }
      }
    }
  },
  "nbformat": 4,
  "nbformat_minor": 0
}